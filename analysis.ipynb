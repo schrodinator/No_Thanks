{
 "cells": [
  {
   "cell_type": "markdown",
   "metadata": {},
   "source": [
    "<h2>Simulation and analysis of the card game \"No Thanks\"</h2>"
   ]
  },
  {
   "cell_type": "markdown",
   "metadata": {},
   "source": [
    "Import game simulator code from Table.py. Also import numpy for data analysis and matpltlib for plots."
   ]
  },
  {
   "cell_type": "code",
   "execution_count": 1,
   "metadata": {
    "collapsed": false
   },
   "outputs": [],
   "source": [
    "%matplotlib inline\n",
    "\n",
    "from table import Table\n",
    "import numpy as np\n",
    "import pandas as pd\n",
    "import matplotlib.pyplot as plt\n",
    "from collections import Counter\n",
    "from statistics import mean, median_low"
   ]
  },
  {
   "cell_type": "markdown",
   "metadata": {},
   "source": [
    "Select the number of players and the number of games to simulate."
   ]
  },
  {
   "cell_type": "code",
   "execution_count": 2,
   "metadata": {
    "collapsed": true
   },
   "outputs": [],
   "source": [
    "num_players = 3\n",
    "num_games = 10000"
   ]
  },
  {
   "cell_type": "markdown",
   "metadata": {},
   "source": [
    "Run the simulation and collect the data."
   ]
  },
  {
   "cell_type": "code",
   "execution_count": 3,
   "metadata": {
    "collapsed": true
   },
   "outputs": [],
   "source": [
    "game_data = []\n",
    "for i in range(num_games):\n",
    "    mytable = Table(num_ai_players=num_players, verbose=0)\n",
    "    mytable.play()\n",
    "    game_data.append(mytable.score())"
   ]
  },
  {
   "cell_type": "markdown",
   "metadata": {},
   "source": [
    "The output of Table.score() is a list of lists containing the following data for each player in the game:\n",
    "\n",
    "<table>\n",
    "   <tr>\n",
    "      <td>Index</td> <td>Description</td>\n",
    "   </tr>\n",
    "   <tr>\n",
    "      <td><div align=\"center\">0</div></td> <td>Lost = 0<br>Won = 1<br>Tied = 2</td>\n",
    "   </tr>\n",
    "   <tr>\n",
    "      <td><div align=\"center\">1</div></td> <td>Final score (int)</td>\n",
    "   </tr>\n",
    "   <tr>\n",
    "      <td><div align=\"center\">2</div></td> <td>Player position, indexed from 0 (i.e. the player who went first has position 0)</td>\n",
    "   </tr>\n",
    "   <tr>\n",
    "      <td><div align=\"center\">3</div></td> <td>Initial threshold (int)</td>\n",
    "   </tr>\n",
    "   <tr>\n",
    "      <td><div align=\"center\">4</div></td> <td>Token threshold (int)</td>\n",
    "   </tr>\n",
    "   <tr>\n",
    "      <td><div align=\"center\">5</div></td> <td>Effective value threshold (int)</td>\n",
    "   </tr>\n",
    "   <tr>\n",
    "      <td><div align=\"center\">6</div></td> <td>Pot threshold (int)</td>\n",
    "   </tr>\n",
    "   <tr>\n",
    "      <td><div align=\"center\">7</div></td> <td>Token history (list of ints)</td>\n",
    "   </tr>\n",
    "   <tr>\n",
    "      <td><div align=\"center\">8</div></td> <td>Effective value history (list of ints)</td>\n",
    "   </tr>\n",
    "   <tr>\n",
    "       <td><div align=\"center\">9</div></td> <td>Player's cards, in the order in which they were obtained (list of ints)</td>\n",
    "   </tr>\n",
    "</table>"
   ]
  },
  {
   "cell_type": "markdown",
   "metadata": {},
   "source": [
    "Remove (pop) the list of cards from every player's data, separating them into a list of winning hands and a list of losing hands."
   ]
  },
  {
   "cell_type": "code",
   "execution_count": 4,
   "metadata": {
    "collapsed": true
   },
   "outputs": [],
   "source": [
    "winning_cards = []\n",
    "losing_cards = []\n",
    "for game in game_data:\n",
    "    for player_data in game:\n",
    "        if player_data[0] > 0:\n",
    "            winning_cards.append(player_data.pop())\n",
    "        else:\n",
    "            losing_cards.append(player_data.pop())\n",
    "num_win = len(winning_cards)\n",
    "num_lose = len(losing_cards)"
   ]
  },
  {
   "cell_type": "markdown",
   "metadata": {},
   "source": [
    "Do winning players tend to take more or fewer cards than losing players?"
   ]
  },
  {
   "cell_type": "code",
   "execution_count": 5,
   "metadata": {
    "collapsed": false
   },
   "outputs": [
    {
     "name": "stdout",
     "output_type": "stream",
     "text": [
      "Average number of cards in winning hands: 7.588484251968504 \n",
      "Average number of cards in losing hands: 8.210735887096774 \n",
      "\n",
      "Median number of cards in winning hands: 7 \n",
      "Median number of cards in losing hands: 8\n"
     ]
    },
    {
     "data": {
      "image/png": "[encoded data removed]",
      "text/plain": [
       "<matplotlib.figure.Figure at 0x7f8cb24f8f28>"
      ]
     },
     "metadata": {},
     "output_type": "display_data"
    }
   ],
   "source": [
    "win_len = []\n",
    "lose_len = []\n",
    "for hand in winning_cards:\n",
    "    win_len.append(len(hand))\n",
    "for hand in losing_cards:\n",
    "    lose_len.append(len(hand))\n",
    "print(\"Average number of cards in winning hands:\", mean(win_len), \\\n",
    "      \"\\nAverage number of cards in losing hands:\", mean(lose_len), \\\n",
    "      \"\\n\\nMedian number of cards in winning hands:\", median_low(win_len), \\\n",
    "      \"\\nMedian number of cards in losing hands:\", median_low(lose_len))\n",
    "win_len_ctr = Counter()\n",
    "lose_len_ctr = Counter()\n",
    "for ct in win_len:\n",
    "    win_len_ctr[ct] += 1\n",
    "for ct in lose_len:\n",
    "    lose_len_ctr[ct] += 1\n",
    "win_labels, win_values = zip(*win_len_ctr.items())\n",
    "lose_labels, lose_values = zip(*lose_len_ctr.items())\n",
    "bar_width = 0.4\n",
    "opacity = 0.5\n",
    "win_len_plt = plt.bar(win_labels, [value / num_win for value in win_values], bar_width, alpha=opacity, color='r', \\\n",
    "                     label='winning hands')\n",
    "lose_len_plt = plt.bar([label + bar_width for label in lose_labels], [value / num_lose for value in lose_values], \\\n",
    "                      bar_width, alpha=opacity, color='b', label='losing hands')\n",
    "plt.xlabel('number of cards in hand')\n",
    "plt.ylabel('percentage of hands')\n",
    "plt.title('Total number of cards in winning vs losing hands')\n",
    "plt.legend(bbox_to_anchor=(1.05, 1), loc=2, borderaxespad=0.)\n",
    "plt.show()"
   ]
  },
  {
   "cell_type": "markdown",
   "metadata": {},
   "source": [
    "<em>In 10,000 three-player games, I find that winning players end up with slightly fewer cards than losing players (avg 7.6 vs. 8.2, median 7 vs 8).</em>"
   ]
  },
  {
   "cell_type": "markdown",
   "metadata": {},
   "source": [
    "Visualize the distribution of cards in winning and losing final hands: calculate and plot the percent of hands that contain each card (3-35)."
   ]
  },
  {
   "cell_type": "code",
   "execution_count": 6,
   "metadata": {
    "collapsed": false
   },
   "outputs": [
    {
     "data": {
      "image/png": "[encoded data removed]",
      "text/plain": [
       "<matplotlib.figure.Figure at 0x7f8cb241d940>"
      ]
     },
     "metadata": {},
     "output_type": "display_data"
    }
   ],
   "source": [
    "card_counts_win = Counter()\n",
    "card_counts_lose = Counter()\n",
    "for hand in winning_cards:\n",
    "    for card in hand:\n",
    "        card_counts_win[card] += 1\n",
    "for hand in losing_cards:\n",
    "    for card in hand:\n",
    "        card_counts_lose[card] += 1\n",
    "win_labels, win_values = zip(*card_counts_win.items())\n",
    "lose_labels, lose_values = zip(*card_counts_lose.items())\n",
    "bar_width = 0.4\n",
    "opacity = 0.5\n",
    "win_plt = plt.bar(win_labels, [value / num_win for value in win_values], bar_width, alpha=opacity, color='r', \\\n",
    "                  label='winning hands')\n",
    "lose_plt = plt.bar([label + bar_width for label in lose_labels], [value / num_lose for value in lose_values], \\\n",
    "                   bar_width, alpha=opacity, color='b', label='losing hands')\n",
    "plt.xlabel('card')\n",
    "plt.ylabel('percentage of hands')\n",
    "plt.title('Percentage of hands containing each card')\n",
    "plt.xlim((2,37))\n",
    "#plt.xticks([label + bar_width for label in lose_labels], lose_labels)\n",
    "plt.legend(bbox_to_anchor=(1.05, 1), loc=2, borderaxespad=0.)\n",
    "plt.show()"
   ]
  },
  {
   "cell_type": "markdown",
   "metadata": {},
   "source": [
    "<em>The difference between winning and losing hands is striking for card values greater than ~26. Winning hands are much less likely to contain high-valued cards. The percentage of winning hands containing the 35 is less than a third of the percentage of losing hands containing the 35.</em>"
   ]
  },
  {
   "cell_type": "markdown",
   "metadata": {},
   "source": [
    "Create a Numpy array and a Pandas data frame of player attributes."
   ]
  },
  {
   "cell_type": "code",
   "execution_count": 7,
   "metadata": {
    "collapsed": false
   },
   "outputs": [],
   "source": [
    "slice = []\n",
    "for game in game_data:\n",
    "    for player in game:\n",
    "        slice.append(player[:7])\n",
    "attributes = np.array(slice)\n",
    "df = pd.DataFrame(data=attributes, \\\n",
    "                  columns=['won', 'score', 'pos', 'init_thr', 'tok_thr', 'eff_val_thr', 'pot_thr'])"
   ]
  },
  {
   "cell_type": "markdown",
   "metadata": {},
   "source": [
    "Descibe attributes of winners (including ties)."
   ]
  },
  {
   "cell_type": "code",
   "execution_count": 8,
   "metadata": {
    "collapsed": false
   },
   "outputs": [
    {
     "data": {
      "text/html": [
       "<div>\n",
       "<table border=\"1\" class=\"dataframe\">\n",
       "  <thead>\n",
       "    <tr style=\"text-align: right;\">\n",
       "      <th></th>\n",
       "      <th>won</th>\n",
       "      <th>score</th>\n",
       "      <th>pos</th>\n",
       "      <th>init_thr</th>\n",
       "      <th>tok_thr</th>\n",
       "      <th>eff_val_thr</th>\n",
       "      <th>pot_thr</th>\n",
       "    </tr>\n",
       "  </thead>\n",
       "  <tbody>\n",
       "    <tr>\n",
       "      <th>count</th>\n",
       "      <td>10160.000000</td>\n",
       "      <td>10160.000000</td>\n",
       "      <td>10160.000000</td>\n",
       "      <td>10160.000000</td>\n",
       "      <td>10160.000000</td>\n",
       "      <td>10160.000000</td>\n",
       "      <td>10160.000000</td>\n",
       "    </tr>\n",
       "    <tr>\n",
       "      <th>mean</th>\n",
       "      <td>1.031496</td>\n",
       "      <td>32.005709</td>\n",
       "      <td>1.020472</td>\n",
       "      <td>17.749705</td>\n",
       "      <td>4.244390</td>\n",
       "      <td>4.403839</td>\n",
       "      <td>12.918799</td>\n",
       "    </tr>\n",
       "    <tr>\n",
       "      <th>std</th>\n",
       "      <td>0.174663</td>\n",
       "      <td>14.865939</td>\n",
       "      <td>0.814026</td>\n",
       "      <td>9.089316</td>\n",
       "      <td>2.571398</td>\n",
       "      <td>2.571357</td>\n",
       "      <td>4.270783</td>\n",
       "    </tr>\n",
       "    <tr>\n",
       "      <th>min</th>\n",
       "      <td>1.000000</td>\n",
       "      <td>-19.000000</td>\n",
       "      <td>0.000000</td>\n",
       "      <td>3.000000</td>\n",
       "      <td>0.000000</td>\n",
       "      <td>0.000000</td>\n",
       "      <td>6.000000</td>\n",
       "    </tr>\n",
       "    <tr>\n",
       "      <th>25%</th>\n",
       "      <td>1.000000</td>\n",
       "      <td>22.000000</td>\n",
       "      <td>0.000000</td>\n",
       "      <td>10.000000</td>\n",
       "      <td>2.000000</td>\n",
       "      <td>2.000000</td>\n",
       "      <td>9.000000</td>\n",
       "    </tr>\n",
       "    <tr>\n",
       "      <th>50%</th>\n",
       "      <td>1.000000</td>\n",
       "      <td>32.000000</td>\n",
       "      <td>1.000000</td>\n",
       "      <td>17.000000</td>\n",
       "      <td>4.000000</td>\n",
       "      <td>5.000000</td>\n",
       "      <td>13.000000</td>\n",
       "    </tr>\n",
       "    <tr>\n",
       "      <th>75%</th>\n",
       "      <td>1.000000</td>\n",
       "      <td>42.000000</td>\n",
       "      <td>2.000000</td>\n",
       "      <td>25.000000</td>\n",
       "      <td>7.000000</td>\n",
       "      <td>7.000000</td>\n",
       "      <td>17.000000</td>\n",
       "    </tr>\n",
       "    <tr>\n",
       "      <th>max</th>\n",
       "      <td>2.000000</td>\n",
       "      <td>90.000000</td>\n",
       "      <td>2.000000</td>\n",
       "      <td>34.000000</td>\n",
       "      <td>8.000000</td>\n",
       "      <td>8.000000</td>\n",
       "      <td>20.000000</td>\n",
       "    </tr>\n",
       "  </tbody>\n",
       "</table>\n",
       "</div>"
      ],
      "text/plain": [
       "                won         score           pos      init_thr       tok_thr  \\\n",
       "count  10160.000000  10160.000000  10160.000000  10160.000000  10160.000000   \n",
       "mean       1.031496     32.005709      1.020472     17.749705      4.244390   \n",
       "std        0.174663     14.865939      0.814026      9.089316      2.571398   \n",
       "min        1.000000    -19.000000      0.000000      3.000000      0.000000   \n",
       "25%        1.000000     22.000000      0.000000     10.000000      2.000000   \n",
       "50%        1.000000     32.000000      1.000000     17.000000      4.000000   \n",
       "75%        1.000000     42.000000      2.000000     25.000000      7.000000   \n",
       "max        2.000000     90.000000      2.000000     34.000000      8.000000   \n",
       "\n",
       "        eff_val_thr       pot_thr  \n",
       "count  10160.000000  10160.000000  \n",
       "mean       4.403839     12.918799  \n",
       "std        2.571357      4.270783  \n",
       "min        0.000000      6.000000  \n",
       "25%        2.000000      9.000000  \n",
       "50%        5.000000     13.000000  \n",
       "75%        7.000000     17.000000  \n",
       "max        8.000000     20.000000  "
      ]
     },
     "execution_count": 8,
     "metadata": {},
     "output_type": "execute_result"
    }
   ],
   "source": [
    "df[df['won'] > 0].describe()"
   ]
  },
  {
   "cell_type": "markdown",
   "metadata": {},
   "source": [
    "Describe attributes of losers."
   ]
  },
  {
   "cell_type": "code",
   "execution_count": 9,
   "metadata": {
    "collapsed": false
   },
   "outputs": [
    {
     "data": {
      "text/html": [
       "<div>\n",
       "<table border=\"1\" class=\"dataframe\">\n",
       "  <thead>\n",
       "    <tr style=\"text-align: right;\">\n",
       "      <th></th>\n",
       "      <th>won</th>\n",
       "      <th>score</th>\n",
       "      <th>pos</th>\n",
       "      <th>init_thr</th>\n",
       "      <th>tok_thr</th>\n",
       "      <th>eff_val_thr</th>\n",
       "      <th>pot_thr</th>\n",
       "    </tr>\n",
       "  </thead>\n",
       "  <tbody>\n",
       "    <tr>\n",
       "      <th>count</th>\n",
       "      <td>19840</td>\n",
       "      <td>19840.000000</td>\n",
       "      <td>19840.000000</td>\n",
       "      <td>19840.000000</td>\n",
       "      <td>19840.000000</td>\n",
       "      <td>19840.000000</td>\n",
       "      <td>19840.000000</td>\n",
       "    </tr>\n",
       "    <tr>\n",
       "      <th>mean</th>\n",
       "      <td>0</td>\n",
       "      <td>71.430897</td>\n",
       "      <td>0.989516</td>\n",
       "      <td>18.866280</td>\n",
       "      <td>3.896673</td>\n",
       "      <td>3.759677</td>\n",
       "      <td>13.033921</td>\n",
       "    </tr>\n",
       "    <tr>\n",
       "      <th>std</th>\n",
       "      <td>0</td>\n",
       "      <td>27.101054</td>\n",
       "      <td>0.817601</td>\n",
       "      <td>9.324042</td>\n",
       "      <td>2.577946</td>\n",
       "      <td>2.543201</td>\n",
       "      <td>4.383870</td>\n",
       "    </tr>\n",
       "    <tr>\n",
       "      <th>min</th>\n",
       "      <td>0</td>\n",
       "      <td>5.000000</td>\n",
       "      <td>0.000000</td>\n",
       "      <td>3.000000</td>\n",
       "      <td>0.000000</td>\n",
       "      <td>0.000000</td>\n",
       "      <td>6.000000</td>\n",
       "    </tr>\n",
       "    <tr>\n",
       "      <th>25%</th>\n",
       "      <td>0</td>\n",
       "      <td>52.000000</td>\n",
       "      <td>0.000000</td>\n",
       "      <td>11.000000</td>\n",
       "      <td>2.000000</td>\n",
       "      <td>2.000000</td>\n",
       "      <td>9.000000</td>\n",
       "    </tr>\n",
       "    <tr>\n",
       "      <th>50%</th>\n",
       "      <td>0</td>\n",
       "      <td>66.000000</td>\n",
       "      <td>1.000000</td>\n",
       "      <td>19.000000</td>\n",
       "      <td>4.000000</td>\n",
       "      <td>4.000000</td>\n",
       "      <td>13.000000</td>\n",
       "    </tr>\n",
       "    <tr>\n",
       "      <th>75%</th>\n",
       "      <td>0</td>\n",
       "      <td>85.000000</td>\n",
       "      <td>2.000000</td>\n",
       "      <td>27.000000</td>\n",
       "      <td>6.000000</td>\n",
       "      <td>6.000000</td>\n",
       "      <td>17.000000</td>\n",
       "    </tr>\n",
       "    <tr>\n",
       "      <th>max</th>\n",
       "      <td>0</td>\n",
       "      <td>197.000000</td>\n",
       "      <td>2.000000</td>\n",
       "      <td>34.000000</td>\n",
       "      <td>8.000000</td>\n",
       "      <td>8.000000</td>\n",
       "      <td>20.000000</td>\n",
       "    </tr>\n",
       "  </tbody>\n",
       "</table>\n",
       "</div>"
      ],
      "text/plain": [
       "         won         score           pos      init_thr       tok_thr  \\\n",
       "count  19840  19840.000000  19840.000000  19840.000000  19840.000000   \n",
       "mean       0     71.430897      0.989516     18.866280      3.896673   \n",
       "std        0     27.101054      0.817601      9.324042      2.577946   \n",
       "min        0      5.000000      0.000000      3.000000      0.000000   \n",
       "25%        0     52.000000      0.000000     11.000000      2.000000   \n",
       "50%        0     66.000000      1.000000     19.000000      4.000000   \n",
       "75%        0     85.000000      2.000000     27.000000      6.000000   \n",
       "max        0    197.000000      2.000000     34.000000      8.000000   \n",
       "\n",
       "        eff_val_thr       pot_thr  \n",
       "count  19840.000000  19840.000000  \n",
       "mean       3.759677     13.033921  \n",
       "std        2.543201      4.383870  \n",
       "min        0.000000      6.000000  \n",
       "25%        2.000000      9.000000  \n",
       "50%        4.000000     13.000000  \n",
       "75%        6.000000     17.000000  \n",
       "max        8.000000     20.000000  "
      ]
     },
     "execution_count": 9,
     "metadata": {},
     "output_type": "execute_result"
    }
   ],
   "source": [
    "df[df['won'] == 0].describe()"
   ]
  },
  {
   "cell_type": "markdown",
   "metadata": {},
   "source": [
    "<em>At a glance, there is not a huge difference between the position or threshold values of winning and losing players. These values were assigned randomly from uniform distributions. It would be noteworthy if the distribution of any of these values were no longer uniform when viewing the winning and losing thresholds separately. This would indicate that some particular values confer an advantage (are associated with winning) while others confer a disadvantage (are associated with losing).</em> "
   ]
  },
  {
   "cell_type": "markdown",
   "metadata": {},
   "source": [
    "Does player position confer an advantage?"
   ]
  },
  {
   "cell_type": "code",
   "execution_count": 10,
   "metadata": {
    "collapsed": false
   },
   "outputs": [
    {
     "data": {
      "text/html": [
       "<div>\n",
       "<table border=\"1\" class=\"dataframe\">\n",
       "  <thead>\n",
       "    <tr style=\"text-align: right;\">\n",
       "      <th></th>\n",
       "      <th>count</th>\n",
       "      <th>percent</th>\n",
       "    </tr>\n",
       "  </thead>\n",
       "  <tbody>\n",
       "    <tr>\n",
       "      <th>0</th>\n",
       "      <td>3264</td>\n",
       "      <td>32.125984</td>\n",
       "    </tr>\n",
       "    <tr>\n",
       "      <th>1</th>\n",
       "      <td>3424</td>\n",
       "      <td>33.700787</td>\n",
       "    </tr>\n",
       "    <tr>\n",
       "      <th>2</th>\n",
       "      <td>3472</td>\n",
       "      <td>34.173228</td>\n",
       "    </tr>\n",
       "  </tbody>\n",
       "</table>\n",
       "</div>"
      ],
      "text/plain": [
       "   count    percent\n",
       "0   3264  32.125984\n",
       "1   3424  33.700787\n",
       "2   3472  34.173228"
      ]
     },
     "execution_count": 10,
     "metadata": {},
     "output_type": "execute_result"
    }
   ],
   "source": [
    "won_pos = df[df['won'] > 0]['pos'].value_counts(sort=False).to_frame()\n",
    "won_pos.columns = ['count']\n",
    "won_pos['percent'] = 100 * won_pos['count'] / won_pos['count'].sum()\n",
    "won_pos"
   ]
  },
  {
   "cell_type": "code",
   "execution_count": 11,
   "metadata": {
    "collapsed": false
   },
   "outputs": [
    {
     "data": {
      "text/html": [
       "<div>\n",
       "<table border=\"1\" class=\"dataframe\">\n",
       "  <thead>\n",
       "    <tr style=\"text-align: right;\">\n",
       "      <th></th>\n",
       "      <th>count</th>\n",
       "      <th>percent</th>\n",
       "    </tr>\n",
       "  </thead>\n",
       "  <tbody>\n",
       "    <tr>\n",
       "      <th>0</th>\n",
       "      <td>6736</td>\n",
       "      <td>33.951613</td>\n",
       "    </tr>\n",
       "    <tr>\n",
       "      <th>1</th>\n",
       "      <td>6576</td>\n",
       "      <td>33.145161</td>\n",
       "    </tr>\n",
       "    <tr>\n",
       "      <th>2</th>\n",
       "      <td>6528</td>\n",
       "      <td>32.903226</td>\n",
       "    </tr>\n",
       "  </tbody>\n",
       "</table>\n",
       "</div>"
      ],
      "text/plain": [
       "   count    percent\n",
       "0   6736  33.951613\n",
       "1   6576  33.145161\n",
       "2   6528  32.903226"
      ]
     },
     "execution_count": 11,
     "metadata": {},
     "output_type": "execute_result"
    }
   ],
   "source": [
    "lose_pos = df[df['won'] == 0]['pos'].value_counts(sort=False).to_frame()\n",
    "lose_pos.columns = ['count']\n",
    "lose_pos['percent'] = 100 * lose_pos['count'] / lose_pos['count'].sum()\n",
    "lose_pos"
   ]
  },
  {
   "cell_type": "markdown",
   "metadata": {
    "collapsed": true
   },
   "source": [
    "<em>Player positions are quite evenly distributed; they do not differ significantly from a uniform distribution. Position does not appear to confer any significant advantage.</em>"
   ]
  },
  {
   "cell_type": "markdown",
   "metadata": {},
   "source": [
    "Investigate initial value threshold distribution."
   ]
  },
  {
   "cell_type": "code",
   "execution_count": 48,
   "metadata": {
    "collapsed": false
   },
   "outputs": [
    {
     "data": {
      "image/png": "[encoded data removed]",
      "text/plain": [
       "<matplotlib.figure.Figure at 0x7f8cadfc1400>"
      ]
     },
     "metadata": {},
     "output_type": "display_data"
    }
   ],
   "source": [
    "inval = pd.DataFrame()\n",
    "inval['won'] = df[df['won'] > 0]['init_thr'].value_counts(sort=False) / num_win\n",
    "inval['lost'] = df[df['won'] == 0]['init_thr'].value_counts() / num_lose\n",
    "ax = inval.sort_index().plot.bar(title='Initial Threshold (effective value thr for first card taken)', \\\n",
    "                                 legend=False, color=['r', 'b'], alpha=opacity)\n",
    "leg = ax.legend(bbox_to_anchor=(1.05, 1), loc=2, borderaxespad=0.)"
   ]
  },
  {
   "cell_type": "markdown",
   "metadata": {},
   "source": [
    "Investigate token threshold distribution."
   ]
  },
  {
   "cell_type": "code",
   "execution_count": 47,
   "metadata": {
    "collapsed": false
   },
   "outputs": [
    {
     "data": {
      "image/png": "[encoded data removed]",
      "text/plain": [
       "<matplotlib.figure.Figure at 0x7f8cadd2b710>"
      ]
     },
     "metadata": {},
     "output_type": "display_data"
    }
   ],
   "source": [
    "tok = pd.DataFrame()\n",
    "tok['won'] = df[df['won'] > 0]['tok_thr'].value_counts(sort=False) / num_win\n",
    "tok['lost'] = df[df['won'] == 0]['tok_thr'].value_counts() / num_lose\n",
    "ax = tok.sort_index().plot.bar(title='Token Threshold', legend=False, color=['r', 'b'], alpha=opacity)\n",
    "leg = ax.legend(bbox_to_anchor=(1.05, 1), loc=2, borderaxespad=0.)"
   ]
  },
  {
   "cell_type": "markdown",
   "metadata": {},
   "source": [
    "Investigate effective value threshold distribution."
   ]
  },
  {
   "cell_type": "code",
   "execution_count": 46,
   "metadata": {
    "collapsed": false
   },
   "outputs": [
    {
     "data": {
      "image/png": "[encoded data removed]",
      "text/plain": [
       "<matplotlib.figure.Figure at 0x7f8cadce66d8>"
      ]
     },
     "metadata": {},
     "output_type": "display_data"
    }
   ],
   "source": [
    "efv = pd.DataFrame()\n",
    "efv['won'] = df[df['won'] > 0]['eff_val_thr'].value_counts(sort=False) / num_win\n",
    "efv['lost'] = df[df['won'] == 0]['eff_val_thr'].value_counts() / num_lose\n",
    "ax = efv.sort_index().plot.bar(title='Effective Value Threshold', legend=False, color=['r', 'b'], alpha=opacity)\n",
    "leg = ax.legend(bbox_to_anchor=(1.05, 1), loc=2, borderaxespad=0.)"
   ]
  },
  {
   "cell_type": "markdown",
   "metadata": {},
   "source": [
    "Investigate pot threshold distribution."
   ]
  },
  {
   "cell_type": "code",
   "execution_count": 49,
   "metadata": {
    "collapsed": false
   },
   "outputs": [
    {
     "data": {
      "image/png": "[encoded data removed]",
      "text/plain": [
       "<matplotlib.figure.Figure at 0x7f8cae143208>"
      ]
     },
     "metadata": {},
     "output_type": "display_data"
    }
   ],
   "source": [
    "pot = pd.DataFrame()\n",
    "pot['won'] = df[df['won'] > 0]['pot_thr'].value_counts(sort=False) / num_win\n",
    "pot['lost'] = df[df['won'] == 0]['pot_thr'].value_counts() / num_lose\n",
    "ax = pot.sort_index().plot.bar(title='Pot Threshold', legend=False, color=['r', 'b'], alpha=opacity)\n",
    "leg = ax.legend(bbox_to_anchor=(1.05, 1), loc=2, borderaxespad=0.)"
   ]
  },
  {
   "cell_type": "markdown",
   "metadata": {},
   "source": [
    "Try a linear regression to fit threshold values to the final score."
   ]
  },
  {
   "cell_type": "code",
   "execution_count": 68,
   "metadata": {
    "collapsed": false
   },
   "outputs": [
    {
     "name": "stdout",
     "output_type": "stream",
     "text": [
      "Coefficients: [ 0.22413259 -0.95017634 -1.47324798  0.34799373] \n",
      "Residual sum of squares: 842.459517101 \n",
      "Variance score: 0.0325044052146\n"
     ]
    }
   ],
   "source": [
    "from sklearn import linear_model\n",
    "from sklearn.cross_validation import train_test_split\n",
    "random_state = 110\n",
    "X_train, X_test, y_train, y_test = train_test_split(attributes[:,3:], attributes[:,1], \\\n",
    "                                                    test_size=0.2, random_state=random_state)\n",
    "regr = linear_model.LinearRegression()\n",
    "regr.fit(X_train, y_train)\n",
    "prediction = regr.predict(X_test)\n",
    "print('Coefficients:', regr.coef_, \\\n",
    "      '\\nResidual sum of squares:', np.mean((prediction - y_test) ** 2), \\\n",
    "      '\\nVariance score:', regr.score(X_test, y_test))"
   ]
  },
  {
   "cell_type": "markdown",
   "metadata": {},
   "source": [
    "<em>That's a very poor fit! A variance score of 1 means the linear model describes the data perfectly; a variance score of 0.03 means that the player attributes account for only ~3% of the final outcome of the game, according to the linear model.</em>"
   ]
  },
  {
   "cell_type": "code",
   "execution_count": 96,
   "metadata": {
    "collapsed": false
   },
   "outputs": [
    {
     "name": "stdout",
     "output_type": "stream",
     "text": [
      "tolerance correct  \n",
      "    5     14.42 %\n",
      "   10     28.78 %\n",
      "   15     42.38 %\n",
      "   20     53.85 %\n",
      "   25     64.08 %\n",
      "   30     72.47 %\n"
     ]
    }
   ],
   "source": [
    "# Define a successful prediction as being within \"tolerance\" units of the actual score.\n",
    "tolerances = [5, 10, 15, 20, 25, 30]\n",
    "print(\"{0:9} {1:9}\".format('tolerance', 'correct'))\n",
    "for tolerance in tolerances:\n",
    "    acc = abs(prediction - y_test)\n",
    "    print(\"{0:5d}     {1:5.2f} %\".format(tolerance, 100 * (acc <= tolerance).sum() / len(acc)))"
   ]
  },
  {
   "cell_type": "code",
   "execution_count": null,
   "metadata": {
    "collapsed": true
   },
   "outputs": [],
   "source": []
  }
 ],
 "metadata": {
  "kernelspec": {
   "display_name": "Python 3",
   "language": "python",
   "name": "python3"
  },
  "language_info": {
   "codemirror_mode": {
    "name": "ipython",
    "version": 3
   },
   "file_extension": ".py",
   "mimetype": "text/x-python",
   "name": "python",
   "nbconvert_exporter": "python",
   "pygments_lexer": "ipython3",
   "version": "3.5.1"
  }
 },
 "nbformat": 4,
 "nbformat_minor": 0
}
