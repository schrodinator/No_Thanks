{
 "cells": [
  {
   "cell_type": "markdown",
   "metadata": {},
   "source": [
    "<h2>Simulation and analysis of the card game \"No Thanks\"</h2>"
   ]
  },
  {
   "cell_type": "markdown",
   "metadata": {},
   "source": [
    "Import game simulator code from nothx.py. Also import numpy for data analysis and matpltlib for plots."
   ]
  },
  {
   "cell_type": "code",
   "execution_count": 14,
   "metadata": {
    "collapsed": true
   },
   "outputs": [],
   "source": [
    "from nothx import Table, Deck, Player\n",
    "import numpy as np\n",
    "import matplotlib.pyplot as plt"
   ]
  },
  {
   "cell_type": "markdown",
   "metadata": {},
   "source": [
    "Select the number of players and the number of games to simulate."
   ]
  },
  {
   "cell_type": "code",
   "execution_count": 7,
   "metadata": {
    "collapsed": true
   },
   "outputs": [],
   "source": [
    "num_players = 3\n",
    "num_games = 10"
   ]
  },
  {
   "cell_type": "markdown",
   "metadata": {},
   "source": [
    "Run the simulation. For the initial analysis, retain data only from the winners.\n",
    "\n",
    "The output of the Table.score() function, assigned to game_data in the code below, is a list of lists, or a list of *features* in data science parlance. The first index corresponds to the player and the second to various features (attributes) associated with the player. The feature indexed by 1 tells whether the player lost (0), won (1), or tied for the win (2). Here, game data is retained for those who won or tied. The last column of the feature-list is a list of cards in the player's final hand, in the order in which they were obtained during the game. For ease of working with the data (since the other features are single values, not lists), the \"cards\" feature is separated into a new list of lists."
   ]
  },
  {
   "cell_type": "code",
   "execution_count": 8,
   "metadata": {
    "collapsed": false
   },
   "outputs": [],
   "source": [
    "cards = []\n",
    "wins = []\n",
    "for i in range(num_games):\n",
    "    mytable = Table(num_ai_players = num_players, verbose = 0)\n",
    "    mytable.play()\n",
    "    game_data = mytable.score()\n",
    "    for j in range(num_players):\n",
    "        if game_data[j][1] > 0:\n",
    "            cards.append(game_data[j].pop())\n",
    "            wins.append(game_data[j])\n",
    "winners = np.array(wins)"
   ]
  },
  {
   "cell_type": "markdown",
   "metadata": {},
   "source": [
    "Inspect the \"winners\" features.\n",
    "\n",
    "<table>\n",
    "   <tr>\n",
    "      <td>Column Index</td> <td>Description</td>\n",
    "   </tr>\n",
    "   <tr>\n",
    "      <td><div align=\"center\">0</div></td> <td>Player position (indexed from 0, i.e. the player who went first has position 0)</td>\n",
    "   </tr>\n",
    "   <tr>\n",
    "      <td><div align=\"center\">1</div></td> <td>Lost = 0<br>Won = 1<br>Tied = 2<br>Since data for the players who lost was not retained, this column should be populated entirely with \"1\"s and \"2\"s.</td>\n",
    "   </tr>\n",
    "   <tr>\n",
    "      <td><div align=\"center\">2</div></td> <td>Final score</td>\n",
    "   </tr>\n",
    "   <tr>\n",
    "      <td><div align=\"center\">3</div></td> <td>Card threshold value</td>\n",
    "   </tr>\n",
    "   <tr>\n",
    "      <td><div align=\"center\">4</div></td> <td>Token threshold value</td>\n",
    "   </tr>\n",
    "   <tr>\n",
    "      <td><div align=\"center\">5</div></td> <td>\"Effective value\" threshold value</td>\n",
    "   </tr>\n",
    "   <tr>\n",
    "      <td><div align=\"center\">6</div></td> <td>The number of times a player passed before taking her first card</td>\n",
    "   </tr>\n",
    "   <tr>\n",
    "      <td><div align=\"center\">7</div></td> <td>The minimum number of tokens the player ever had during the game</td>\n",
    "   </tr>\n",
    "   <tr>\n",
    "      <td><div align=\"center\">8</div></td> <td>The maximum number of tokens the player ever had during the game</td>\n",
    "   </tr>\n",
    "</table>"
   ]
  },
  {
   "cell_type": "code",
   "execution_count": 9,
   "metadata": {
    "collapsed": false
   },
   "outputs": [
    {
     "name": "stdout",
     "output_type": "stream",
     "text": [
      "[[ 1  1 17 28  8  3  0  0 22]\n",
      " [ 0  1 47 22  3  2  0  0 27]\n",
      " [ 2  1 33 21  9  2  0  0 21]\n",
      " [ 0  1 63 34  1  3  0  0 25]\n",
      " [ 1  1 42 34  3  2  0  3 26]\n",
      " [ 0  1 27 20  9  3  0  0 26]\n",
      " [ 2  1 29 24  1  4  0  1 26]\n",
      " [ 1  1 31 12 10  3  0  2 29]\n",
      " [ 0  1 29 14  3  4  0  5 29]\n",
      " [ 0  1  2 32  1  4  0  3 31]]\n"
     ]
    }
   ],
   "source": [
    "print(winners)"
   ]
  },
  {
   "cell_type": "markdown",
   "metadata": {},
   "source": [
    "Investigate the range of values present in some of the feature columns."
   ]
  },
  {
   "cell_type": "code",
   "execution_count": 15,
   "metadata": {
    "collapsed": false
   },
   "outputs": [
    {
     "name": "stdout",
     "output_type": "stream",
     "text": [
      "Winners had between 21 and 31 as their maximum number of tokens.\n",
      "winners had between 0 and 5 as their minimum number of tokens.\n"
     ]
    }
   ],
   "source": [
    "low_max_tokens = min(winners[:,8])\n",
    "high_max_tokens = max(winners[:,8])\n",
    "print(\"Winners had between\", low_max_tokens, \"and\", high_max_tokens, \"as their maximum number of tokens.\")\n",
    "low_min_tokens = min(winners[:,7])\n",
    "high_min_tokens = max(winners[:,7])\n",
    "print(\"winners had between\", low_min_tokens, \"and\", high_min_tokens, \"as their minimum number of tokens.\")"
   ]
  },
  {
   "cell_type": "markdown",
   "metadata": {
    "collapsed": true
   },
   "source": [
    "Does player position confer an advantage?"
   ]
  },
  {
   "cell_type": "code",
   "execution_count": 19,
   "metadata": {
    "collapsed": false
   },
   "outputs": [
    {
     "name": "stdout",
     "output_type": "stream",
     "text": [
      "[5, 3, 2]\n"
     ]
    }
   ],
   "source": [
    "pos = list(winners[:,0])\n",
    "positions = []\n",
    "for i in range(num_players):\n",
    "    positions.append(pos.count(i))\n",
    "print(positions)\n"
   ]
  },
  {
   "cell_type": "code",
   "execution_count": null,
   "metadata": {
    "collapsed": true
   },
   "outputs": [],
   "source": []
  }
 ],
 "metadata": {
  "kernelspec": {
   "display_name": "Python 3",
   "language": "python",
   "name": "python3"
  },
  "language_info": {
   "codemirror_mode": {
    "name": "ipython",
    "version": 3
   },
   "file_extension": ".py",
   "mimetype": "text/x-python",
   "name": "python",
   "nbconvert_exporter": "python",
   "pygments_lexer": "ipython3",
   "version": "3.5.1"
  }
 },
 "nbformat": 4,
 "nbformat_minor": 0
}
