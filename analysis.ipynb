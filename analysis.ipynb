{
 "cells": [
  {
   "cell_type": "markdown",
   "metadata": {},
   "source": [
    "<h2>Simulation and analysis of the card game \"No Thanks\"</h2>"
   ]
  },
  {
   "cell_type": "markdown",
   "metadata": {},
   "source": [
    "Import game simulator code from Table.py. Also import numpy for data analysis and matpltlib for plots."
   ]
  },
  {
   "cell_type": "code",
   "execution_count": 33,
   "metadata": {
    "collapsed": false
   },
   "outputs": [],
   "source": [
    "%matplotlib inline\n",
    "\n",
    "from table import Table\n",
    "import numpy as np\n",
    "import pandas as pd\n",
    "import matplotlib.pyplot as plt\n",
    "from collections import Counter\n",
    "from statistics import mean, median_low"
   ]
  },
  {
   "cell_type": "markdown",
   "metadata": {},
   "source": [
    "Select the number of players and the number of games to simulate."
   ]
  },
  {
   "cell_type": "code",
   "execution_count": 34,
   "metadata": {
    "collapsed": true
   },
   "outputs": [],
   "source": [
    "num_players = 3\n",
    "num_games = 10000"
   ]
  },
  {
   "cell_type": "markdown",
   "metadata": {},
   "source": [
    "Run the simulation and collect the data."
   ]
  },
  {
   "cell_type": "code",
   "execution_count": 35,
   "metadata": {
    "collapsed": true
   },
   "outputs": [],
   "source": [
    "game_data = []\n",
    "for i in range(num_games):\n",
    "    mytable = Table(num_ai_players=num_players, verbose=0)\n",
    "    mytable.play()\n",
    "    game_data.append(mytable.score())"
   ]
  },
  {
   "cell_type": "markdown",
   "metadata": {},
   "source": [
    "The output of Table.score() is a list of lists containing the following data for each player in the game:\n",
    "\n",
    "<table>\n",
    "   <tr>\n",
    "      <td>Index</td> <td>Description</td>\n",
    "   </tr>\n",
    "   <tr>\n",
    "      <td><div align=\"center\">0</div></td> <td>Player position, indexed from 0 (i.e. the player who went first has position 0)</td>\n",
    "   </tr>\n",
    "   <tr>\n",
    "      <td><div align=\"center\">1</div></td> <td>Lost = 0<br>Won = 1<br>Tied = 2</td>\n",
    "   </tr>\n",
    "   <tr>\n",
    "      <td><div align=\"center\">2</div></td> <td>Final score (int)</td>\n",
    "   </tr>\n",
    "   <tr>\n",
    "      <td><div align=\"center\">3</div></td> <td>Initial threshold (int)</td>\n",
    "   </tr>\n",
    "   <tr>\n",
    "      <td><div align=\"center\">4</div></td> <td>Token threshold (int)</td>\n",
    "   </tr>\n",
    "   <tr>\n",
    "      <td><div align=\"center\">5</div></td> <td>Effective value threshold (int)</td>\n",
    "   </tr>\n",
    "   <tr>\n",
    "      <td><div align=\"center\">6</div></td> <td>Pot threshold (int)</td>\n",
    "   </tr>\n",
    "   <tr>\n",
    "      <td><div align=\"center\">7</div></td> <td>Token history (list of ints)</td>\n",
    "   </tr>\n",
    "   <tr>\n",
    "      <td><div align=\"center\">8</div></td> <td>Effective value history (list of ints)</td>\n",
    "   </tr>\n",
    "   <tr>\n",
    "       <td><div align=\"center\">9</div></td> <td>Player's cards, in the order in which they were obtained (list of ints)</td>\n",
    "   </tr>\n",
    "</table>"
   ]
  },
  {
   "cell_type": "markdown",
   "metadata": {},
   "source": [
    "Remove (pop) the list of cards from every player's data, separating them into a list of winning hands and a list of losing hands."
   ]
  },
  {
   "cell_type": "code",
   "execution_count": 36,
   "metadata": {
    "collapsed": true
   },
   "outputs": [],
   "source": [
    "winning_cards = []\n",
    "losing_cards = []\n",
    "for game in game_data:\n",
    "    for player_data in game:\n",
    "        if player_data[1] > 0:\n",
    "            winning_cards.append(player_data.pop())\n",
    "        else:\n",
    "            losing_cards.append(player_data.pop())"
   ]
  },
  {
   "cell_type": "markdown",
   "metadata": {},
   "source": [
    "Do winning players tend to take more or fewer cards than losing players?"
   ]
  },
  {
   "cell_type": "code",
   "execution_count": 38,
   "metadata": {
    "collapsed": false
   },
   "outputs": [
    {
     "name": "stdout",
     "output_type": "stream",
     "text": [
      "Average number of cards in winning hands: 7.978418677653521 \n",
      "Average number of cards in losing hands: 8.01110774512774 \n",
      "\n",
      "Median number of cards in winning hands: 8 \n",
      "Median number of cards in losing hands: 8\n"
     ]
    }
   ],
   "source": [
    "win_len = []\n",
    "lose_len = []\n",
    "for hand in winning_cards:\n",
    "    win_len.append(len(hand))\n",
    "for hand in losing_cards:\n",
    "    lose_len.append(len(hand))\n",
    "print(\"Average number of cards in winning hands:\", mean(win_len), \\\n",
    "      \"\\nAverage number of cards in losing hands:\", mean(lose_len), \\\n",
    "      \"\\n\\nMedian number of cards in winning hands:\", median_low(win_len), \\\n",
    "      \"\\nMedian number of cards in losing hands:\", median_low(lose_len))"
   ]
  },
  {
   "cell_type": "markdown",
   "metadata": {},
   "source": [
    "<em>In 10,000 three-player games, I find virtually no difference between the number of cards taken by winning players and the number of cards taken by losing players. The number of cards taken is generally evenly distributed, with each of the three players taking approximately one-third of the cards. The number of cards taken does not seem to be predictive of a winning strategy.</em>"
   ]
  },
  {
   "cell_type": "markdown",
   "metadata": {},
   "source": [
    "Visualize the distribution of cards in winning and losing final hands: calculate and plot the percent of hands that contain each card (3-35)."
   ]
  },
  {
   "cell_type": "code",
   "execution_count": 41,
   "metadata": {
    "collapsed": false
   },
   "outputs": [
    {
     "data": {
      "image/png": "[encoded data removed]",
      "text/plain": [
       "<matplotlib.figure.Figure at 0x7f0248d06f28>"
      ]
     },
     "metadata": {},
     "output_type": "display_data"
    }
   ],
   "source": [
    "card_counts_win = Counter()\n",
    "card_counts_lose = Counter()\n",
    "num_win = len(winning_cards)\n",
    "num_lose = len(losing_cards)\n",
    "for hand in winning_cards:\n",
    "    for card in hand:\n",
    "        card_counts_win[card] += 1\n",
    "for hand in losing_cards:\n",
    "    for card in hand:\n",
    "        card_counts_lose[card] += 1\n",
    "win_labels, win_values = zip(*card_counts_win.items())\n",
    "lose_labels, lose_values = zip(*card_counts_lose.items())\n",
    "bar_width = 0.4\n",
    "opacity = 0.5\n",
    "win_plt = plt.bar(win_labels, [value / num_win for value in win_values], bar_width, alpha=opacity, color='r', \\\n",
    "                  label='winners')\n",
    "lose_plt = plt.bar([label + bar_width for label in lose_labels], [value / num_lose for value in lose_values], \\\n",
    "                   bar_width, alpha=opacity, color='b', label='losers')\n",
    "plt.xlabel('card')\n",
    "plt.ylabel('percent of hands')\n",
    "plt.title('Percent of hands containing each card')\n",
    "#plt.xticks([label + bar_width for label in lose_labels], lose_labels)\n",
    "plt.legend(bbox_to_anchor=(1.05, 1), loc=2, borderaxespad=0.)\n",
    "plt.tight_layout()\n",
    "plt.show()"
   ]
  },
  {
   "cell_type": "markdown",
   "metadata": {},
   "source": [
    "<em>The percentage of winning hands containing the 35 is less than a third of the percentage of losing hands containing the 35.</em>"
   ]
  },
  {
   "cell_type": "markdown",
   "metadata": {},
   "source": [
    "CODE BELOW THIS BOX IS NOT VALID, was based on old version of game data output"
   ]
  },
  {
   "cell_type": "code",
   "execution_count": 3,
   "metadata": {
    "collapsed": false
   },
   "outputs": [],
   "source": [
    "#cards = []\n",
    "won = []\n",
    "lost = []\n",
    "for i in range(num_games):\n",
    "    mytable = Table(num_ai_players=num_players, verbose=0)\n",
    "    mytable.play()\n",
    "    game_data = mytable.score()\n",
    "    for j in range(num_players):\n",
    "        #cards.append(game_data[j].pop())\n",
    "        if game_data[j][1] > 0:\n",
    "            won.append(game_data[j])\n",
    "        else:\n",
    "            lost.append(game_data[j])\n",
    "df_won = pd.DataFrame(data=np.array(won), \\\n",
    "                    columns=['pos', 'won', 'score', 'init_thr', 'tok_thr', 'eff_val', 'pot_thr', \\\n",
    "                             'min_tok', 'max_tok', 'avg_tok', 'med_tok', \\\n",
    "                             'min_efv', 'max_efv', 'avg_efv', 'med_efv', \\\n",
    "                             'num_cards', 'num_runs', 'first_card', 'min_card', 'max_card', 'avg_card', 'med_card'])\n",
    "df_lost = pd.DataFrame(data=np.array(lost), \\\n",
    "                    columns=['pos', 'won', 'score', 'init_thr', 'tok_thr', 'eff_val', 'pot_thr', \\\n",
    "                             'min_tok', 'max_tok', 'avg_tok', 'med_tok', \\\n",
    "                             'min_efv', 'max_efv', 'avg_efv', 'med_efv', \\\n",
    "                             'num_cards', 'num_runs', 'first_card', 'min_card', 'max_card', 'avg_card', 'med_card'])"
   ]
  },
  {
   "cell_type": "markdown",
   "metadata": {},
   "source": [
    "Investigate the range of values present in some of the feature columns."
   ]
  },
  {
   "cell_type": "code",
   "execution_count": 26,
   "metadata": {
    "collapsed": false,
    "scrolled": true
   },
   "outputs": [
    {
     "data": {
      "text/plain": [
       "count    10178.000000\n",
       "mean        22.911869\n",
       "std          5.108107\n",
       "min         11.000000\n",
       "25%         19.000000\n",
       "50%         23.000000\n",
       "75%         27.000000\n",
       "max         33.000000\n",
       "Name: max_tok, dtype: float64"
      ]
     },
     "execution_count": 26,
     "metadata": {},
     "output_type": "execute_result"
    }
   ],
   "source": [
    "df_won['max_tok'].describe()\n",
    "#df_won.loc[df_won['max_tok'] == 10]"
   ]
  },
  {
   "cell_type": "code",
   "execution_count": 27,
   "metadata": {
    "collapsed": false
   },
   "outputs": [
    {
     "data": {
      "text/plain": [
       "count    19822.000000\n",
       "mean        18.844516\n",
       "std          5.232300\n",
       "min         11.000000\n",
       "25%         15.000000\n",
       "50%         19.000000\n",
       "75%         23.000000\n",
       "max         33.000000\n",
       "Name: max_tok, dtype: float64"
      ]
     },
     "execution_count": 27,
     "metadata": {},
     "output_type": "execute_result"
    }
   ],
   "source": [
    "df_lost['max_tok'].describe()"
   ]
  },
  {
   "cell_type": "code",
   "execution_count": 28,
   "metadata": {
    "collapsed": false
   },
   "outputs": [
    {
     "name": "stdout",
     "output_type": "stream",
     "text": [
      "winner median: 23.0 \n",
      "loser median: 19.0\n"
     ]
    }
   ],
   "source": [
    "x = df_won['max_tok'].median()\n",
    "y = df_lost['max_tok'].median()\n",
    "print(\"winner median:\", x, \"\\nloser median:\", y)"
   ]
  },
  {
   "cell_type": "markdown",
   "metadata": {
    "collapsed": true
   },
   "source": [
    "Does player position confer an advantage?"
   ]
  },
  {
   "cell_type": "code",
   "execution_count": 4,
   "metadata": {
    "collapsed": false
   },
   "outputs": [
    {
     "data": {
      "text/html": [
       "<div>\n",
       "<table border=\"1\" class=\"dataframe\">\n",
       "  <thead>\n",
       "    <tr style=\"text-align: right;\">\n",
       "      <th></th>\n",
       "      <th>count</th>\n",
       "      <th>percent</th>\n",
       "    </tr>\n",
       "  </thead>\n",
       "  <tbody>\n",
       "    <tr>\n",
       "      <th>0</th>\n",
       "      <td>3313</td>\n",
       "      <td>32.563397</td>\n",
       "    </tr>\n",
       "    <tr>\n",
       "      <th>1</th>\n",
       "      <td>3394</td>\n",
       "      <td>33.359544</td>\n",
       "    </tr>\n",
       "    <tr>\n",
       "      <th>2</th>\n",
       "      <td>3467</td>\n",
       "      <td>34.077059</td>\n",
       "    </tr>\n",
       "  </tbody>\n",
       "</table>\n",
       "</div>"
      ],
      "text/plain": [
       "   count    percent\n",
       "0   3313  32.563397\n",
       "1   3394  33.359544\n",
       "2   3467  34.077059"
      ]
     },
     "execution_count": 4,
     "metadata": {},
     "output_type": "execute_result"
    }
   ],
   "source": [
    "won_pos = df_won['pos'].value_counts(sort=False).to_frame()\n",
    "won_pos.columns = ['count']\n",
    "won_pos['percent'] = 100*won_pos['count']/won_pos['count'].sum()\n",
    "won_pos"
   ]
  },
  {
   "cell_type": "code",
   "execution_count": 5,
   "metadata": {
    "collapsed": false
   },
   "outputs": [
    {
     "data": {
      "text/html": [
       "<div>\n",
       "<table border=\"1\" class=\"dataframe\">\n",
       "  <thead>\n",
       "    <tr style=\"text-align: right;\">\n",
       "      <th></th>\n",
       "      <th>count</th>\n",
       "      <th>percent</th>\n",
       "    </tr>\n",
       "  </thead>\n",
       "  <tbody>\n",
       "    <tr>\n",
       "      <th>0</th>\n",
       "      <td>6687</td>\n",
       "      <td>33.728437</td>\n",
       "    </tr>\n",
       "    <tr>\n",
       "      <th>1</th>\n",
       "      <td>6606</td>\n",
       "      <td>33.319883</td>\n",
       "    </tr>\n",
       "    <tr>\n",
       "      <th>2</th>\n",
       "      <td>6533</td>\n",
       "      <td>32.951680</td>\n",
       "    </tr>\n",
       "  </tbody>\n",
       "</table>\n",
       "</div>"
      ],
      "text/plain": [
       "   count    percent\n",
       "0   6687  33.728437\n",
       "1   6606  33.319883\n",
       "2   6533  32.951680"
      ]
     },
     "execution_count": 5,
     "metadata": {},
     "output_type": "execute_result"
    }
   ],
   "source": [
    "lost_pos = df_lost['pos'].value_counts(sort=False).to_frame()\n",
    "lost_pos.columns = ['count']\n",
    "lost_pos['percent'] = 100*lost_pos['count']/lost_pos['count'].sum()\n",
    "lost_pos"
   ]
  },
  {
   "cell_type": "code",
   "execution_count": 31,
   "metadata": {
    "collapsed": false
   },
   "outputs": [
    {
     "data": {
      "text/plain": [
       "count    10178.000000\n",
       "mean         5.224700\n",
       "std          3.136367\n",
       "min          0.000000\n",
       "25%          3.000000\n",
       "50%          5.000000\n",
       "75%          8.000000\n",
       "max         10.000000\n",
       "Name: tok_thr, dtype: float64"
      ]
     },
     "execution_count": 31,
     "metadata": {},
     "output_type": "execute_result"
    }
   ],
   "source": [
    "df_won['tok_thr'].describe()"
   ]
  },
  {
   "cell_type": "code",
   "execution_count": 13,
   "metadata": {
    "collapsed": false
   },
   "outputs": [
    {
     "data": {
      "text/plain": [
       "count    19797.000000\n",
       "mean         4.880942\n",
       "std          3.180773\n",
       "min          0.000000\n",
       "25%          2.000000\n",
       "50%          5.000000\n",
       "75%          8.000000\n",
       "max         10.000000\n",
       "Name: tok_thr, dtype: float64"
      ]
     },
     "execution_count": 13,
     "metadata": {},
     "output_type": "execute_result"
    }
   ],
   "source": [
    "df_lost['tok_thr'].describe()"
   ]
  },
  {
   "cell_type": "code",
   "execution_count": 6,
   "metadata": {
    "collapsed": false
   },
   "outputs": [
    {
     "data": {
      "text/plain": [
       "count    10174.000000\n",
       "mean         4.296442\n",
       "std          2.576042\n",
       "min          0.000000\n",
       "25%          2.000000\n",
       "50%          4.000000\n",
       "75%          7.000000\n",
       "max          8.000000\n",
       "Name: eff_val, dtype: float64"
      ]
     },
     "execution_count": 6,
     "metadata": {},
     "output_type": "execute_result"
    }
   ],
   "source": [
    "df_won['eff_val'].describe()"
   ]
  },
  {
   "cell_type": "code",
   "execution_count": 7,
   "metadata": {
    "collapsed": false
   },
   "outputs": [
    {
     "data": {
      "text/plain": [
       "count    19826.000000\n",
       "mean         3.841572\n",
       "std          2.566398\n",
       "min          0.000000\n",
       "25%          2.000000\n",
       "50%          4.000000\n",
       "75%          6.000000\n",
       "max          8.000000\n",
       "Name: eff_val, dtype: float64"
      ]
     },
     "execution_count": 7,
     "metadata": {},
     "output_type": "execute_result"
    }
   ],
   "source": [
    "df_lost['eff_val'].describe()"
   ]
  },
  {
   "cell_type": "code",
   "execution_count": 8,
   "metadata": {
    "collapsed": false
   },
   "outputs": [
    {
     "data": {
      "text/plain": [
       "count    10174.000000\n",
       "mean        17.516906\n",
       "std          9.039547\n",
       "min          3.000000\n",
       "25%         10.000000\n",
       "50%         17.000000\n",
       "75%         25.000000\n",
       "max         34.000000\n",
       "Name: init_thr, dtype: float64"
      ]
     },
     "execution_count": 8,
     "metadata": {},
     "output_type": "execute_result"
    }
   ],
   "source": [
    "df_won['init_thr'].describe()"
   ]
  },
  {
   "cell_type": "code",
   "execution_count": 9,
   "metadata": {
    "collapsed": false
   },
   "outputs": [
    {
     "data": {
      "text/plain": [
       "count    19826.00000\n",
       "mean        18.97241\n",
       "std          9.26692\n",
       "min          3.00000\n",
       "25%         11.00000\n",
       "50%         19.00000\n",
       "75%         27.00000\n",
       "max         34.00000\n",
       "Name: init_thr, dtype: float64"
      ]
     },
     "execution_count": 9,
     "metadata": {},
     "output_type": "execute_result"
    }
   ],
   "source": [
    "df_lost['init_thr'].describe()"
   ]
  },
  {
   "cell_type": "code",
   "execution_count": null,
   "metadata": {
    "collapsed": true
   },
   "outputs": [],
   "source": []
  }
 ],
 "metadata": {
  "kernelspec": {
   "display_name": "Python 3",
   "language": "python",
   "name": "python3"
  },
  "language_info": {
   "codemirror_mode": {
    "name": "ipython",
    "version": 3
   },
   "file_extension": ".py",
   "mimetype": "text/x-python",
   "name": "python",
   "nbconvert_exporter": "python",
   "pygments_lexer": "ipython3",
   "version": "3.5.1"
  }
 },
 "nbformat": 4,
 "nbformat_minor": 0
}
