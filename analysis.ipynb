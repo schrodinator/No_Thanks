{
 "cells": [
  {
   "cell_type": "markdown",
   "metadata": {},
   "source": [
    "<h2>Simulation and analysis of the card game \"No Thanks\"</h2>"
   ]
  },
  {
   "cell_type": "markdown",
   "metadata": {},
   "source": [
    "Import game simulator code from Table.py. Also import numpy for data analysis and matpltlib for plots."
   ]
  },
  {
   "cell_type": "code",
   "execution_count": 1,
   "metadata": {
    "collapsed": false
   },
   "outputs": [],
   "source": [
    "%matplotlib inline\n",
    "\n",
    "from table import Table\n",
    "import numpy as np\n",
    "import pandas as pd\n",
    "import matplotlib.pyplot as plt\n",
    "from collections import Counter\n",
    "from statistics import mean, median_low"
   ]
  },
  {
   "cell_type": "markdown",
   "metadata": {},
   "source": [
    "Select the number of players and the number of games to simulate."
   ]
  },
  {
   "cell_type": "code",
   "execution_count": 2,
   "metadata": {
    "collapsed": true
   },
   "outputs": [],
   "source": [
    "num_players = 3\n",
    "num_games = 10000"
   ]
  },
  {
   "cell_type": "markdown",
   "metadata": {},
   "source": [
    "Run the simulation and collect the data."
   ]
  },
  {
   "cell_type": "code",
   "execution_count": 3,
   "metadata": {
    "collapsed": true
   },
   "outputs": [],
   "source": [
    "game_data = []\n",
    "for i in range(num_games):\n",
    "    mytable = Table(num_ai_players=num_players, verbose=0)\n",
    "    mytable.play()\n",
    "    game_data.append(mytable.score())"
   ]
  },
  {
   "cell_type": "markdown",
   "metadata": {},
   "source": [
    "The output of Table.score() is a list of lists containing the following data for each player in the game:\n",
    "\n",
    "<table>\n",
    "   <tr>\n",
    "      <td>Index</td> <td>Description</td>\n",
    "   </tr>\n",
    "   <tr>\n",
    "      <td><div align=\"center\">0</div></td> <td>Lost = 0<br>Won = 1<br>Tied = 2</td>\n",
    "   </tr>\n",
    "   <tr>\n",
    "      <td><div align=\"center\">1</div></td> <td>Player position, indexed from 0 (i.e. the player who went first has position 0)</td>\n",
    "   </tr>\n",
    "   <tr>\n",
    "      <td><div align=\"center\">2</div></td> <td>Final score (int)</td>\n",
    "   </tr>\n",
    "   <tr>\n",
    "      <td><div align=\"center\">3</div></td> <td>Initial threshold (int)</td>\n",
    "   </tr>\n",
    "   <tr>\n",
    "      <td><div align=\"center\">4</div></td> <td>Token threshold (int)</td>\n",
    "   </tr>\n",
    "   <tr>\n",
    "      <td><div align=\"center\">5</div></td> <td>Effective value threshold (int)</td>\n",
    "   </tr>\n",
    "   <tr>\n",
    "      <td><div align=\"center\">6</div></td> <td>Pot threshold (int)</td>\n",
    "   </tr>\n",
    "   <tr>\n",
    "      <td><div align=\"center\">7</div></td> <td>Token history (list of ints)</td>\n",
    "   </tr>\n",
    "   <tr>\n",
    "      <td><div align=\"center\">8</div></td> <td>Effective value history (list of ints)</td>\n",
    "   </tr>\n",
    "   <tr>\n",
    "       <td><div align=\"center\">9</div></td> <td>Player's cards, in the order in which they were obtained (list of ints)</td>\n",
    "   </tr>\n",
    "</table>"
   ]
  },
  {
   "cell_type": "markdown",
   "metadata": {},
   "source": [
    "Remove (pop) the list of cards from every player's data, separating them into a list of winning hands and a list of losing hands."
   ]
  },
  {
   "cell_type": "code",
   "execution_count": 4,
   "metadata": {
    "collapsed": true
   },
   "outputs": [],
   "source": [
    "winning_cards = []\n",
    "losing_cards = []\n",
    "for game in game_data:\n",
    "    for player_data in game:\n",
    "        if player_data[0] > 0:\n",
    "            winning_cards.append(player_data.pop())\n",
    "        else:\n",
    "            losing_cards.append(player_data.pop())"
   ]
  },
  {
   "cell_type": "markdown",
   "metadata": {},
   "source": [
    "Do winning players tend to take more or fewer cards than losing players?"
   ]
  },
  {
   "cell_type": "code",
   "execution_count": 6,
   "metadata": {
    "collapsed": false
   },
   "outputs": [
    {
     "name": "stdout",
     "output_type": "stream",
     "text": [
      "Average number of cards in winning hands: 7.61463462674808 \n",
      "Average number of cards in losing hands: 8.197168195102288 \n",
      "\n",
      "Median number of cards in winning hands: 7 \n",
      "Median number of cards in losing hands: 8\n"
     ]
    },
    {
     "data": {
      "image/png": "[encoded data removed]",
      "text/plain": [
       "<matplotlib.figure.Figure at 0x7fac53a4c630>"
      ]
     },
     "metadata": {},
     "output_type": "display_data"
    }
   ],
   "source": [
    "num_win = len(winning_cards)\n",
    "num_lose = len(losing_cards)\n",
    "win_len = []\n",
    "lose_len = []\n",
    "for hand in winning_cards:\n",
    "    win_len.append(len(hand))\n",
    "for hand in losing_cards:\n",
    "    lose_len.append(len(hand))\n",
    "print(\"Average number of cards in winning hands:\", mean(win_len), \\\n",
    "      \"\\nAverage number of cards in losing hands:\", mean(lose_len), \\\n",
    "      \"\\n\\nMedian number of cards in winning hands:\", median_low(win_len), \\\n",
    "      \"\\nMedian number of cards in losing hands:\", median_low(lose_len))\n",
    "win_len_ctr = Counter()\n",
    "lose_len_ctr = Counter()\n",
    "for ct in win_len:\n",
    "    win_len_ctr[ct] += 1\n",
    "for ct in lose_len:\n",
    "    lose_len_ctr[ct] += 1\n",
    "win_labels, win_values = zip(*win_len_ctr.items())\n",
    "lose_labels, lose_values = zip(*lose_len_ctr.items())\n",
    "bar_width = 0.4\n",
    "opacity = 0.5\n",
    "win_len_plt = plt.bar(win_labels, [value / num_win for value in win_values], bar_width, alpha=opacity, color='r', \\\n",
    "                     label='winning hands')\n",
    "lose_len_plt = plt.bar([label + bar_width for label in lose_labels], [value / num_lose for value in lose_values], \\\n",
    "                      bar_width, alpha=opacity, color='b', label='losing hands')\n",
    "plt.xlabel('number of cards in hand')\n",
    "plt.ylabel('percentage of hands')\n",
    "plt.title('Total number of cards in winning vs losing hands')\n",
    "plt.legend(bbox_to_anchor=(1.05, 1), loc=2, borderaxespad=0.)\n",
    "plt.show()"
   ]
  },
  {
   "cell_type": "markdown",
   "metadata": {},
   "source": [
    "<em>In 10,000 three-player games, I find that winning players end up with slightly fewer cards than losing players (avg 7.6 vs. 8.2, median 7 vs 8).</em>"
   ]
  },
  {
   "cell_type": "markdown",
   "metadata": {},
   "source": [
    "Visualize the distribution of cards in winning and losing final hands: calculate and plot the percent of hands that contain each card (3-35)."
   ]
  },
  {
   "cell_type": "code",
   "execution_count": 7,
   "metadata": {
    "collapsed": false
   },
   "outputs": [
    {
     "data": {
      "image/png": "[encoded data removed]",
      "text/plain": [
       "<matplotlib.figure.Figure at 0x7fac500a7a90>"
      ]
     },
     "metadata": {},
     "output_type": "display_data"
    }
   ],
   "source": [
    "card_counts_win = Counter()\n",
    "card_counts_lose = Counter()\n",
    "for hand in winning_cards:\n",
    "    for card in hand:\n",
    "        card_counts_win[card] += 1\n",
    "for hand in losing_cards:\n",
    "    for card in hand:\n",
    "        card_counts_lose[card] += 1\n",
    "win_labels, win_values = zip(*card_counts_win.items())\n",
    "lose_labels, lose_values = zip(*card_counts_lose.items())\n",
    "bar_width = 0.4\n",
    "opacity = 0.5\n",
    "win_plt = plt.bar(win_labels, [value / num_win for value in win_values], bar_width, alpha=opacity, color='r', \\\n",
    "                  label='winning hands')\n",
    "lose_plt = plt.bar([label + bar_width for label in lose_labels], [value / num_lose for value in lose_values], \\\n",
    "                   bar_width, alpha=opacity, color='b', label='losing hands')\n",
    "plt.xlabel('card')\n",
    "plt.ylabel('percentage of hands')\n",
    "plt.title('Percentage of hands containing each card')\n",
    "plt.xlim((2,37))\n",
    "#plt.xticks([label + bar_width for label in lose_labels], lose_labels)\n",
    "plt.legend(bbox_to_anchor=(1.05, 1), loc=2, borderaxespad=0.)\n",
    "plt.tight_layout()\n",
    "plt.show()"
   ]
  },
  {
   "cell_type": "markdown",
   "metadata": {},
   "source": [
    "<em>The difference between winning and losing hands is striking for card values greater than ~26. Winning hands are much less likely to contain high-valued cards. The percentage of winning hands containing the 35 is less than a third of the percentage of losing hands containing the 35.</em>"
   ]
  },
  {
   "cell_type": "markdown",
   "metadata": {},
   "source": [
    "Create a Numpy array and a Pandas data frame of player attributes."
   ]
  },
  {
   "cell_type": "code",
   "execution_count": 10,
   "metadata": {
    "collapsed": false
   },
   "outputs": [],
   "source": [
    "slice = []\n",
    "for game in game_data:\n",
    "    for player in game:\n",
    "        slice.append(player[:7])\n",
    "attributes = np.array(slice)\n",
    "df = pd.DataFrame(data=attributes, \\\n",
    "                  columns=['won', 'pos', 'score', 'init_thr', 'tok_thr', 'eff_val_thr', 'pot_thr'])"
   ]
  },
  {
   "cell_type": "markdown",
   "metadata": {},
   "source": [
    "Descibe attributes of winners (including ties)."
   ]
  },
  {
   "cell_type": "code",
   "execution_count": 11,
   "metadata": {
    "collapsed": false
   },
   "outputs": [
    {
     "data": {
      "text/html": [
       "<div>\n",
       "<table border=\"1\" class=\"dataframe\">\n",
       "  <thead>\n",
       "    <tr style=\"text-align: right;\">\n",
       "      <th></th>\n",
       "      <th>won</th>\n",
       "      <th>pos</th>\n",
       "      <th>score</th>\n",
       "      <th>init_thr</th>\n",
       "      <th>tok_thr</th>\n",
       "      <th>eff_val_thr</th>\n",
       "      <th>pot_thr</th>\n",
       "    </tr>\n",
       "  </thead>\n",
       "  <tbody>\n",
       "    <tr>\n",
       "      <th>count</th>\n",
       "      <td>10154.000000</td>\n",
       "      <td>10154.000000</td>\n",
       "      <td>10154.000000</td>\n",
       "      <td>10154.000000</td>\n",
       "      <td>10154.000000</td>\n",
       "      <td>10154.000000</td>\n",
       "      <td>10154.000000</td>\n",
       "    </tr>\n",
       "    <tr>\n",
       "      <th>mean</th>\n",
       "      <td>1.030333</td>\n",
       "      <td>1.003644</td>\n",
       "      <td>32.290723</td>\n",
       "      <td>17.849222</td>\n",
       "      <td>4.258125</td>\n",
       "      <td>4.415403</td>\n",
       "      <td>12.867540</td>\n",
       "    </tr>\n",
       "    <tr>\n",
       "      <th>std</th>\n",
       "      <td>0.171510</td>\n",
       "      <td>0.816750</td>\n",
       "      <td>14.524892</td>\n",
       "      <td>9.076441</td>\n",
       "      <td>2.549586</td>\n",
       "      <td>2.572112</td>\n",
       "      <td>4.237656</td>\n",
       "    </tr>\n",
       "    <tr>\n",
       "      <th>min</th>\n",
       "      <td>1.000000</td>\n",
       "      <td>0.000000</td>\n",
       "      <td>-17.000000</td>\n",
       "      <td>3.000000</td>\n",
       "      <td>0.000000</td>\n",
       "      <td>0.000000</td>\n",
       "      <td>6.000000</td>\n",
       "    </tr>\n",
       "    <tr>\n",
       "      <th>25%</th>\n",
       "      <td>1.000000</td>\n",
       "      <td>0.000000</td>\n",
       "      <td>23.000000</td>\n",
       "      <td>10.000000</td>\n",
       "      <td>2.000000</td>\n",
       "      <td>2.000000</td>\n",
       "      <td>9.000000</td>\n",
       "    </tr>\n",
       "    <tr>\n",
       "      <th>50%</th>\n",
       "      <td>1.000000</td>\n",
       "      <td>1.000000</td>\n",
       "      <td>32.000000</td>\n",
       "      <td>17.000000</td>\n",
       "      <td>4.000000</td>\n",
       "      <td>5.000000</td>\n",
       "      <td>13.000000</td>\n",
       "    </tr>\n",
       "    <tr>\n",
       "      <th>75%</th>\n",
       "      <td>1.000000</td>\n",
       "      <td>2.000000</td>\n",
       "      <td>42.000000</td>\n",
       "      <td>26.000000</td>\n",
       "      <td>6.000000</td>\n",
       "      <td>7.000000</td>\n",
       "      <td>16.000000</td>\n",
       "    </tr>\n",
       "    <tr>\n",
       "      <th>max</th>\n",
       "      <td>2.000000</td>\n",
       "      <td>2.000000</td>\n",
       "      <td>86.000000</td>\n",
       "      <td>34.000000</td>\n",
       "      <td>8.000000</td>\n",
       "      <td>8.000000</td>\n",
       "      <td>20.000000</td>\n",
       "    </tr>\n",
       "  </tbody>\n",
       "</table>\n",
       "</div>"
      ],
      "text/plain": [
       "                won           pos         score      init_thr       tok_thr  \\\n",
       "count  10154.000000  10154.000000  10154.000000  10154.000000  10154.000000   \n",
       "mean       1.030333      1.003644     32.290723     17.849222      4.258125   \n",
       "std        0.171510      0.816750     14.524892      9.076441      2.549586   \n",
       "min        1.000000      0.000000    -17.000000      3.000000      0.000000   \n",
       "25%        1.000000      0.000000     23.000000     10.000000      2.000000   \n",
       "50%        1.000000      1.000000     32.000000     17.000000      4.000000   \n",
       "75%        1.000000      2.000000     42.000000     26.000000      6.000000   \n",
       "max        2.000000      2.000000     86.000000     34.000000      8.000000   \n",
       "\n",
       "        eff_val_thr       pot_thr  \n",
       "count  10154.000000  10154.000000  \n",
       "mean       4.415403     12.867540  \n",
       "std        2.572112      4.237656  \n",
       "min        0.000000      6.000000  \n",
       "25%        2.000000      9.000000  \n",
       "50%        5.000000     13.000000  \n",
       "75%        7.000000     16.000000  \n",
       "max        8.000000     20.000000  "
      ]
     },
     "execution_count": 11,
     "metadata": {},
     "output_type": "execute_result"
    }
   ],
   "source": [
    "df[df['won'] > 0].describe()"
   ]
  },
  {
   "cell_type": "markdown",
   "metadata": {},
   "source": [
    "Describe attributes of losers."
   ]
  },
  {
   "cell_type": "code",
   "execution_count": 12,
   "metadata": {
    "collapsed": false
   },
   "outputs": [
    {
     "data": {
      "text/html": [
       "<div>\n",
       "<table border=\"1\" class=\"dataframe\">\n",
       "  <thead>\n",
       "    <tr style=\"text-align: right;\">\n",
       "      <th></th>\n",
       "      <th>won</th>\n",
       "      <th>pos</th>\n",
       "      <th>score</th>\n",
       "      <th>init_thr</th>\n",
       "      <th>tok_thr</th>\n",
       "      <th>eff_val_thr</th>\n",
       "      <th>pot_thr</th>\n",
       "    </tr>\n",
       "  </thead>\n",
       "  <tbody>\n",
       "    <tr>\n",
       "      <th>count</th>\n",
       "      <td>19846</td>\n",
       "      <td>19846.000000</td>\n",
       "      <td>19846.000000</td>\n",
       "      <td>19846.000000</td>\n",
       "      <td>19846.000000</td>\n",
       "      <td>19846.000000</td>\n",
       "      <td>19846.000000</td>\n",
       "    </tr>\n",
       "    <tr>\n",
       "      <th>mean</th>\n",
       "      <td>0</td>\n",
       "      <td>0.998136</td>\n",
       "      <td>71.416658</td>\n",
       "      <td>18.829638</td>\n",
       "      <td>3.840069</td>\n",
       "      <td>3.781467</td>\n",
       "      <td>13.076086</td>\n",
       "    </tr>\n",
       "    <tr>\n",
       "      <th>std</th>\n",
       "      <td>0</td>\n",
       "      <td>0.816402</td>\n",
       "      <td>27.165343</td>\n",
       "      <td>9.321759</td>\n",
       "      <td>2.576933</td>\n",
       "      <td>2.551117</td>\n",
       "      <td>4.354724</td>\n",
       "    </tr>\n",
       "    <tr>\n",
       "      <th>min</th>\n",
       "      <td>0</td>\n",
       "      <td>0.000000</td>\n",
       "      <td>5.000000</td>\n",
       "      <td>3.000000</td>\n",
       "      <td>0.000000</td>\n",
       "      <td>0.000000</td>\n",
       "      <td>6.000000</td>\n",
       "    </tr>\n",
       "    <tr>\n",
       "      <th>25%</th>\n",
       "      <td>0</td>\n",
       "      <td>0.000000</td>\n",
       "      <td>52.000000</td>\n",
       "      <td>11.000000</td>\n",
       "      <td>2.000000</td>\n",
       "      <td>2.000000</td>\n",
       "      <td>9.000000</td>\n",
       "    </tr>\n",
       "    <tr>\n",
       "      <th>50%</th>\n",
       "      <td>0</td>\n",
       "      <td>1.000000</td>\n",
       "      <td>66.000000</td>\n",
       "      <td>19.000000</td>\n",
       "      <td>4.000000</td>\n",
       "      <td>4.000000</td>\n",
       "      <td>13.000000</td>\n",
       "    </tr>\n",
       "    <tr>\n",
       "      <th>75%</th>\n",
       "      <td>0</td>\n",
       "      <td>2.000000</td>\n",
       "      <td>85.000000</td>\n",
       "      <td>27.000000</td>\n",
       "      <td>6.000000</td>\n",
       "      <td>6.000000</td>\n",
       "      <td>17.000000</td>\n",
       "    </tr>\n",
       "    <tr>\n",
       "      <th>max</th>\n",
       "      <td>0</td>\n",
       "      <td>2.000000</td>\n",
       "      <td>207.000000</td>\n",
       "      <td>34.000000</td>\n",
       "      <td>8.000000</td>\n",
       "      <td>8.000000</td>\n",
       "      <td>20.000000</td>\n",
       "    </tr>\n",
       "  </tbody>\n",
       "</table>\n",
       "</div>"
      ],
      "text/plain": [
       "         won           pos         score      init_thr       tok_thr  \\\n",
       "count  19846  19846.000000  19846.000000  19846.000000  19846.000000   \n",
       "mean       0      0.998136     71.416658     18.829638      3.840069   \n",
       "std        0      0.816402     27.165343      9.321759      2.576933   \n",
       "min        0      0.000000      5.000000      3.000000      0.000000   \n",
       "25%        0      0.000000     52.000000     11.000000      2.000000   \n",
       "50%        0      1.000000     66.000000     19.000000      4.000000   \n",
       "75%        0      2.000000     85.000000     27.000000      6.000000   \n",
       "max        0      2.000000    207.000000     34.000000      8.000000   \n",
       "\n",
       "        eff_val_thr       pot_thr  \n",
       "count  19846.000000  19846.000000  \n",
       "mean       3.781467     13.076086  \n",
       "std        2.551117      4.354724  \n",
       "min        0.000000      6.000000  \n",
       "25%        2.000000      9.000000  \n",
       "50%        4.000000     13.000000  \n",
       "75%        6.000000     17.000000  \n",
       "max        8.000000     20.000000  "
      ]
     },
     "execution_count": 12,
     "metadata": {},
     "output_type": "execute_result"
    }
   ],
   "source": [
    "df[df['won'] == 0].describe()"
   ]
  },
  {
   "cell_type": "markdown",
   "metadata": {},
   "source": [
    "Does player position confer an advantage?"
   ]
  },
  {
   "cell_type": "code",
   "execution_count": 20,
   "metadata": {
    "collapsed": false
   },
   "outputs": [
    {
     "data": {
      "text/html": [
       "<div>\n",
       "<table border=\"1\" class=\"dataframe\">\n",
       "  <thead>\n",
       "    <tr style=\"text-align: right;\">\n",
       "      <th></th>\n",
       "      <th>count</th>\n",
       "      <th>percent</th>\n",
       "    </tr>\n",
       "  </thead>\n",
       "  <tbody>\n",
       "    <tr>\n",
       "      <th>0</th>\n",
       "      <td>3368</td>\n",
       "      <td>33.169194</td>\n",
       "    </tr>\n",
       "    <tr>\n",
       "      <th>1</th>\n",
       "      <td>3381</td>\n",
       "      <td>33.297223</td>\n",
       "    </tr>\n",
       "    <tr>\n",
       "      <th>2</th>\n",
       "      <td>3405</td>\n",
       "      <td>33.533583</td>\n",
       "    </tr>\n",
       "  </tbody>\n",
       "</table>\n",
       "</div>"
      ],
      "text/plain": [
       "   count    percent\n",
       "0   3368  33.169194\n",
       "1   3381  33.297223\n",
       "2   3405  33.533583"
      ]
     },
     "execution_count": 20,
     "metadata": {},
     "output_type": "execute_result"
    }
   ],
   "source": [
    "won_pos = df[df['won'] > 0]['pos'].value_counts(sort=False).to_frame()\n",
    "won_pos.columns = ['count']\n",
    "won_pos['percent'] = 100 * won_pos['count'] / won_pos['count'].sum()\n",
    "won_pos"
   ]
  },
  {
   "cell_type": "code",
   "execution_count": 19,
   "metadata": {
    "collapsed": false
   },
   "outputs": [
    {
     "data": {
      "text/html": [
       "<div>\n",
       "<table border=\"1\" class=\"dataframe\">\n",
       "  <thead>\n",
       "    <tr style=\"text-align: right;\">\n",
       "      <th></th>\n",
       "      <th>count</th>\n",
       "      <th>percent</th>\n",
       "    </tr>\n",
       "  </thead>\n",
       "  <tbody>\n",
       "    <tr>\n",
       "      <th>0</th>\n",
       "      <td>6632</td>\n",
       "      <td>33.417313</td>\n",
       "    </tr>\n",
       "    <tr>\n",
       "      <th>1</th>\n",
       "      <td>6619</td>\n",
       "      <td>33.351809</td>\n",
       "    </tr>\n",
       "    <tr>\n",
       "      <th>2</th>\n",
       "      <td>6595</td>\n",
       "      <td>33.230878</td>\n",
       "    </tr>\n",
       "  </tbody>\n",
       "</table>\n",
       "</div>"
      ],
      "text/plain": [
       "   count    percent\n",
       "0   6632  33.417313\n",
       "1   6619  33.351809\n",
       "2   6595  33.230878"
      ]
     },
     "execution_count": 19,
     "metadata": {},
     "output_type": "execute_result"
    }
   ],
   "source": [
    "lose_pos = df[df['won'] == 0]['pos'].value_counts(sort=False).to_frame()\n",
    "lose_pos.columns = ['count']\n",
    "lose_pos['percent'] = 100 * lose_pos['count'] / lose_pos['count'].sum()\n",
    "lose_pos"
   ]
  },
  {
   "cell_type": "markdown",
   "metadata": {
    "collapsed": true
   },
   "source": [
    "<em>Player positions are evenly distributed. Position does not appear to confer any significant advantage.</em>"
   ]
  },
  {
   "cell_type": "code",
   "execution_count": null,
   "metadata": {
    "collapsed": true
   },
   "outputs": [],
   "source": []
  }
 ],
 "metadata": {
  "kernelspec": {
   "display_name": "Python 3",
   "language": "python",
   "name": "python3"
  },
  "language_info": {
   "codemirror_mode": {
    "name": "ipython",
    "version": 3
   },
   "file_extension": ".py",
   "mimetype": "text/x-python",
   "name": "python",
   "nbconvert_exporter": "python",
   "pygments_lexer": "ipython3",
   "version": "3.5.1"
  }
 },
 "nbformat": 4,
 "nbformat_minor": 0
}
