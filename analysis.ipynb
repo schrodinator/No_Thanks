{
 "cells": [
  {
   "cell_type": "markdown",
   "metadata": {},
   "source": [
    "<h2>Simulation and analysis of the card game \"No Thanks\"</h2>"
   ]
  },
  {
   "cell_type": "markdown",
   "metadata": {},
   "source": [
    "Import game simulator code from nothx.py. Also import numpy for data analysis and matpltlib for plots."
   ]
  },
  {
   "cell_type": "code",
   "execution_count": 1,
   "metadata": {
    "collapsed": false
   },
   "outputs": [],
   "source": [
    "from table import Table\n",
    "import numpy as np\n",
    "import pandas as pd\n",
    "import matplotlib.pyplot as plt"
   ]
  },
  {
   "cell_type": "markdown",
   "metadata": {},
   "source": [
    "Select the number of players and the number of games to simulate."
   ]
  },
  {
   "cell_type": "code",
   "execution_count": 2,
   "metadata": {
    "collapsed": true
   },
   "outputs": [],
   "source": [
    "num_players = 3\n",
    "num_games = 10000"
   ]
  },
  {
   "cell_type": "markdown",
   "metadata": {},
   "source": [
    "Run the simulation. For the initial analysis, retain data only from the winners.\n",
    "\n",
    "The output of the Table.score() function, assigned to game_data in the code below, is a list of lists, or a list of *features* in data science parlance. The first index corresponds to the player and the second to various features (attributes) associated with the player. The feature indexed by 1 tells whether the player lost (0), won (1), or tied for the win (2). Here, game data is retained for those who won or tied. The last column of the feature-list is a list of cards in the player's final hand, in the order in which they were obtained during the game. For ease of working with the data (since the other features are single values, not lists), the \"cards\" feature is separated into a new list of lists."
   ]
  },
  {
   "cell_type": "code",
   "execution_count": 3,
   "metadata": {
    "collapsed": false
   },
   "outputs": [],
   "source": [
    "#cards = []\n",
    "won = []\n",
    "lost = []\n",
    "for i in range(num_games):\n",
    "    mytable = Table(num_ai_players=num_players, verbose=0)\n",
    "    mytable.play()\n",
    "    game_data = mytable.score()\n",
    "    for j in range(num_players):\n",
    "        #cards.append(game_data[j].pop())\n",
    "        if game_data[j][1] > 0:\n",
    "            won.append(game_data[j])\n",
    "        else:\n",
    "            lost.append(game_data[j])\n",
    "df_won = pd.DataFrame(data=np.array(won), \\\n",
    "                    columns=['pos', 'won', 'score', 'init_thr', 'tok_thr', 'eff_val', 'pot_thr', \\\n",
    "                             'min_tok', 'max_tok', 'avg_tok', 'med_tok', \\\n",
    "                             'min_efv', 'max_efv', 'avg_efv', 'med_efv', \\\n",
    "                             'num_cards', 'num_runs', 'first_card', 'min_card', 'max_card', 'avg_card', 'med_card'])\n",
    "df_lost = pd.DataFrame(data=np.array(lost), \\\n",
    "                    columns=['pos', 'won', 'score', 'init_thr', 'tok_thr', 'eff_val', 'pot_thr', \\\n",
    "                             'min_tok', 'max_tok', 'avg_tok', 'med_tok', \\\n",
    "                             'min_efv', 'max_efv', 'avg_efv', 'med_efv', \\\n",
    "                             'num_cards', 'num_runs', 'first_card', 'min_card', 'max_card', 'avg_card', 'med_card'])"
   ]
  },
  {
   "cell_type": "markdown",
   "metadata": {},
   "source": [
    "Inspect the \"winners\" features.\n",
    "\n",
    "<table>\n",
    "   <tr>\n",
    "      <td>Column Index</td> <td>Description</td>\n",
    "   </tr>\n",
    "   <tr>\n",
    "      <td><div align=\"center\">0</div></td> <td>Player position (indexed from 0, i.e. the player who went first has position 0)</td>\n",
    "   </tr>\n",
    "   <tr>\n",
    "      <td><div align=\"center\">1</div></td> <td>Lost = 0<br>Won = 1<br>Tied = 2<br>Since data for the players who lost was not retained, this column should be populated entirely with \"1\"s and \"2\"s.</td>\n",
    "   </tr>\n",
    "   <tr>\n",
    "      <td><div align=\"center\">2</div></td> <td>Final score</td>\n",
    "   </tr>\n",
    "   <tr>\n",
    "      <td><div align=\"center\">3</div></td> <td>Card threshold value</td>\n",
    "   </tr>\n",
    "   <tr>\n",
    "      <td><div align=\"center\">4</div></td> <td>Token threshold value</td>\n",
    "   </tr>\n",
    "   <tr>\n",
    "      <td><div align=\"center\">5</div></td> <td>\"Effective value\" threshold value</td>\n",
    "   </tr>\n",
    "   <tr>\n",
    "      <td><div align=\"center\">6</div></td> <td>The number of times a player passed before taking her first card</td>\n",
    "   </tr>\n",
    "   <tr>\n",
    "      <td><div align=\"center\">7</div></td> <td>The minimum number of tokens the player ever had during the game</td>\n",
    "   </tr>\n",
    "   <tr>\n",
    "      <td><div align=\"center\">8</div></td> <td>The maximum number of tokens the player ever had during the game</td>\n",
    "   </tr>\n",
    "</table>"
   ]
  },
  {
   "cell_type": "code",
   "execution_count": 6,
   "metadata": {
    "collapsed": false
   },
   "outputs": [
    {
     "name": "stdout",
     "output_type": "stream",
     "text": [
      "       pos  won  score  init_thr  tok_thr  eff_val  pot_thr  min_tok  max_tok  \\\n",
      "0        0    1     46        32        5        5       15        1       30   \n",
      "1        0    1     40         5        0        3       15        0       28   \n",
      "2        2    1     41        30        5        0       14        4       29   \n",
      "3        0    2     31        21        6        5        6        4       28   \n",
      "4        1    2     31        22        1        3       16        0       20   \n",
      "5        0    1     21        26        2        3        6        0       17   \n",
      "6        0    1     33         7        1        5       17        2       15   \n",
      "7        0    1     60        29        9        2       13        5       21   \n",
      "8        2    1     25         8        9        6       12        2       29   \n",
      "9        2    1     27        16        5        3       18        0       23   \n",
      "10       2    1     57        25        1        5       13        0       16   \n",
      "11       2    1     -8        17        4        6        9        9       32   \n",
      "12       0    1     54        17        9        3       13        0       21   \n",
      "13       2    1     26        12       10        5       15        4       24   \n",
      "14       2    1     44        27        0        2       15        0       17   \n",
      "15       0    1     29         6        1        5        7        3       33   \n",
      "16       1    1      7        31        4        1       17        1       20   \n",
      "17       0    1     28        22        8        2       18        0       12   \n",
      "18       0    1     51        22        9        1       14        4       25   \n",
      "19       1    1     31        10        6        4        7        5       30   \n",
      "20       2    1     12        15       10        4       10       10       25   \n",
      "21       0    1      9         4        5        2       10        4       23   \n",
      "22       1    1      5        26        9        1       18        5       28   \n",
      "23       1    1     35        15        5        2       17        0       18   \n",
      "24       2    1     14        15       10        4        6        9       29   \n",
      "25       1    1     75        26       10        1       13        0       18   \n",
      "26       2    1     24        32        9        2        8        5       27   \n",
      "27       1    1     27        12        5        3       20        0       20   \n",
      "28       0    1     45        27        6        2       15        2       25   \n",
      "29       1    1     19        20        5        0       13        8       23   \n",
      "...    ...  ...    ...       ...      ...      ...      ...      ...      ...   \n",
      "10173    2    1     12        24        5        6       13       10       33   \n",
      "10174    0    1     43        14        7        3        7        5       27   \n",
      "10175    2    1     60        29        7        2       10        3       26   \n",
      "10176    0    2     62        32       10        1        7        6       24   \n",
      "10177    2    2     62        28        9        3       17        0       21   \n",
      "10178    1    1     36         3        9        3       10        7       29   \n",
      "10179    0    1     43        31       10        4       10        6       27   \n",
      "10180    1    1      9        10        7        1        6        6       25   \n",
      "10181    0    1     38         9        4        5       15        0       18   \n",
      "10182    1    1     18        24        0        6       19        9       29   \n",
      "10183    1    1     10        18        3        4       11        0       13   \n",
      "10184    0    2     59         9        4        0       18        0       23   \n",
      "10185    1    2     59        29        5        3       12        0       27   \n",
      "10186    1    1     47        23       10        6       17        5       27   \n",
      "10187    2    1     56        30        5        4       19        0       26   \n",
      "10188    2    1     44         8        7        0       17        0       25   \n",
      "10189    2    1     19        10        6        5       10        6       29   \n",
      "10190    1    1     20        33        8        6       15        0       16   \n",
      "10191    2    1     18         7        4        6       16        7       30   \n",
      "10192    2    1     19        15       10        3       15        0       14   \n",
      "10193    0    1     32        26        9        1       13        6       29   \n",
      "10194    2    1     32        27        7        2       11        6       29   \n",
      "10195    1    1      2        32        9        1        8        0       25   \n",
      "10196    0    1     35        16        7        4        7        5       24   \n",
      "10197    0    1     61        12       10        5       19        0       20   \n",
      "10198    2    1     66         5        8        3        8        0       23   \n",
      "10199    0    1     59         4        9        1       12        0       22   \n",
      "10200    2    1     26        17        0        4       11        0       27   \n",
      "10201    1    1     29        13        8        6       20        8       32   \n",
      "10202    2    1      8        29        9        1        7        4       26   \n",
      "\n",
      "         avg_tok    ...     max_efv   avg_efv    med_efv  num_cards  num_runs  \\\n",
      "0      15.500000    ...          12  1.500000   0.000000         12         6   \n",
      "1      14.019231    ...          11  1.000000   0.000000         10         4   \n",
      "2      18.757576    ...          30  6.000000  -2.000000          4         2   \n",
      "3      15.239130    ...          22  0.476584  -1.000000         11         3   \n",
      "4       7.925000    ...          22  1.600000   0.000000          5         2   \n",
      "5       7.745455    ...           8 -1.750000  -2.000000          8         3   \n",
      "6       9.300000    ...           6 -0.936027   1.575758          9         4   \n",
      "7      12.566038    ...          17  4.800000   8.000000          5         3   \n",
      "8      17.340426    ...          11 -0.965035   1.000000         13         5   \n",
      "9      10.979592    ...          16 -0.250000  -1.000000          8         2   \n",
      "10      6.622222    ...          24  5.000000   5.000000          6         4   \n",
      "11     22.483871    ...          11 -2.857143   3.000000          7         2   \n",
      "12      9.349206    ...          16  1.500000  -1.000000          6         3   \n",
      "13     14.754717    ...          11 -0.742424  -1.000000         12         4   \n",
      "14      6.828125    ...          24 -0.145455  -0.545455         10         4   \n",
      "15     20.500000    ...           5  1.428571   3.000000          7         4   \n",
      "16     10.621622    ...          24 -3.500000 -18.000000          4         1   \n",
      "17      5.687500    ...          19 -1.597403  -2.000000          7         2   \n",
      "18     15.061224    ...          17  3.333333  -1.000000          6         3   \n",
      "19     19.454545    ...          16  0.530303  -5.000000          4         2   \n",
      "20     19.607143    ...          14 -0.465909  -2.000000          8         3   \n",
      "21     13.023256    ...           9 -7.848485 -11.000000          4         1   \n",
      "22     19.957447    ...          26 -3.285714  -2.000000          7         1   \n",
      "23      8.626866    ...          15 -4.082251  -3.000000          7         2   \n",
      "24     20.432432    ...          17 -0.261708   0.000000         11         2   \n",
      "25     10.000000    ...          20  5.303030   0.000000          6         3   \n",
      "26     16.444444    ...          30 -0.500000  -3.000000          6         2   \n",
      "27      8.600000    ...          11 -1.625000  -6.000000          8         2   \n",
      "28     15.155172    ...          25  0.875000  -1.000000          8         4   \n",
      "29     16.340426    ...          19 -3.068182  -5.000000          8         2   \n",
      "...          ...    ...         ...       ...        ...        ...       ...   \n",
      "10173  22.692308    ...          17  0.777778  -1.000000          9         3   \n",
      "10174  14.416667    ...          16  0.000000  -1.000000          5         2   \n",
      "10175  13.629630    ...          16  3.571429   8.000000          7         4   \n",
      "10176  13.291667    ...          23  2.722944  -0.939394          7         3   \n",
      "10177  10.468085    ...          28  4.857143   1.000000          7         4   \n",
      "10178  20.800000    ...          14  0.636364  -2.000000          6         3   \n",
      "10179  13.796296    ...          19  0.716253   2.000000         11         5   \n",
      "10180  16.000000    ...           6 -1.875000  -3.000000          8         2   \n",
      "10181  11.311111    ...          16  1.625000  -1.000000          8         3   \n",
      "10182  20.588235    ...          17  0.600000  -1.000000         10         4   \n",
      "10183   5.282609    ...          12 -3.000000  -6.000000          6         1   \n",
      "10184   7.840000    ...          15  4.500000   0.000000          6         3   \n",
      "10185  11.150943    ...          17  3.000000   3.000000          9         5   \n",
      "10186  18.108108    ...          17  4.666667  -2.000000          6         3   \n",
      "10187   8.661017    ...          29  1.818182   3.000000         11         5   \n",
      "10188   9.500000    ...          15  1.666667   5.000000          3         2   \n",
      "10189  21.823529    ...          10  0.051515  -1.000000         10         4   \n",
      "10190   8.424242    ...          21  0.750000  -1.000000          4         1   \n",
      "10191  18.842105    ...           6 -0.520661   3.000000         11         4   \n",
      "10192   7.058824    ...          15  0.666667   0.000000          9         2   \n",
      "10193  18.945946    ...          20 -0.878788  -1.000000          7         2   \n",
      "10194  21.777778    ...          15  1.666667   0.000000         12         4   \n",
      "10195  10.023810    ...          32 -3.389610   0.000000          7         1   \n",
      "10196  13.108108    ...          14  2.000000   2.000000          5         2   \n",
      "10197  11.370370    ...          15  2.583333   0.000000         12         5   \n",
      "10198  12.094340    ...          15  6.613636   5.000000          4         3   \n",
      "10199  12.087719    ...          17  3.000000  -1.000000          7         3   \n",
      "10200  12.032258    ...          12 -1.000000  -1.000000         12         4   \n",
      "10201  20.531250    ...           6  2.285714   3.000000          7         4   \n",
      "10202  14.000000    ...          27 -4.632576  -1.000000          8         1   \n",
      "\n",
      "       first_card  min_card  max_card   avg_card  med_card  \n",
      "0              12         4        24  14.083333        12  \n",
      "1              11         4        35  17.400000        13  \n",
      "2              32        30        35  32.000000        31  \n",
      "3              19         5        30  18.181818        19  \n",
      "4              35        11        35  25.000000        33  \n",
      "5               8         4        15  10.500000        11  \n",
      "6               8         3        16   9.000000         8  \n",
      "7              17        17        27  21.000000        21  \n",
      "8              11         3        24  14.076923        14  \n",
      "9              27        14        27  19.000000        17  \n",
      "10             26         5        26  17.000000        18  \n",
      "11             12         4        16  12.142857        13  \n",
      "12              6         5        30  17.833333        21  \n",
      "13             21         3        22  11.666667        11  \n",
      "14             23         3        28  17.000000        22  \n",
      "15              6         3        29  18.428571        26  \n",
      "16             25        24        27  25.500000        25  \n",
      "17             21        12        22  17.285714        19  \n",
      "18             17        16        35  26.500000        24  \n",
      "19             30        26        30  28.250000        28  \n",
      "20             18         3        18  10.250000         6  \n",
      "21             26        24        27  25.500000        25  \n",
      "22             27        26        32  29.000000        29  \n",
      "23             22        18        27  21.857143        21  \n",
      "24              8         3        29   9.454545         8  \n",
      "25             21        19        35  24.833333        21  \n",
      "26             32        17        32  26.166667        29  \n",
      "27             28        12        28  16.625000        15  \n",
      "28             34         3        34  16.250000         8  \n",
      "29             26         9        26  20.000000        22  \n",
      "...           ...       ...       ...        ...       ...  \n",
      "10173          18        11        21  16.333333        17  \n",
      "10174          31        23        32  27.000000        25  \n",
      "10175          17         9        30  20.571429        19  \n",
      "10176          23        20        30  23.857143        23  \n",
      "10177          11         7        35  15.571429        11  \n",
      "10178          25        14        25  20.166667        21  \n",
      "10179          19         4        23  12.181818        10  \n",
      "10180           8         7        16  11.500000        10  \n",
      "10181           8         7        33  13.250000        10  \n",
      "10182          18         4        19  12.200000        13  \n",
      "10183          13        13        18  15.500000        15  \n",
      "10184          28        14        28  23.333333        23  \n",
      "10185          18         3        31  19.000000        18  \n",
      "10186          18         8        35  19.000000        10  \n",
      "10187          31         4        32  21.181818        23  \n",
      "10188          35        12        35  27.000000        34  \n",
      "10189          27         3        27  12.200000        10  \n",
      "10190          22        22        25  23.500000        23  \n",
      "10191           9         3        19  12.181818        13  \n",
      "10192          19         4        20  10.666667         8  \n",
      "10193          14        13        35  22.857143        16  \n",
      "10194          17         3        33  21.083333        19  \n",
      "10195          33        27        33  30.000000        30  \n",
      "10196          11         9        32  14.800000        11  \n",
      "10197          20         3        24  12.666667        10  \n",
      "10198          28        19        28  22.500000        21  \n",
      "10199          25        21        32  27.714286        29  \n",
      "10200           7         3        29  15.750000        13  \n",
      "10201           7         3        25  13.000000         8  \n",
      "10202          32        26        33  29.500000        29  \n",
      "\n",
      "[10203 rows x 22 columns]\n"
     ]
    }
   ],
   "source": [
    "print(df_won)"
   ]
  },
  {
   "cell_type": "markdown",
   "metadata": {},
   "source": [
    "Investigate the range of values present in some of the feature columns."
   ]
  },
  {
   "cell_type": "code",
   "execution_count": 26,
   "metadata": {
    "collapsed": false,
    "scrolled": true
   },
   "outputs": [
    {
     "data": {
      "text/plain": [
       "count    10178.000000\n",
       "mean        22.911869\n",
       "std          5.108107\n",
       "min         11.000000\n",
       "25%         19.000000\n",
       "50%         23.000000\n",
       "75%         27.000000\n",
       "max         33.000000\n",
       "Name: max_tok, dtype: float64"
      ]
     },
     "execution_count": 26,
     "metadata": {},
     "output_type": "execute_result"
    }
   ],
   "source": [
    "df_won['max_tok'].describe()\n",
    "#df_won.loc[df_won['max_tok'] == 10]"
   ]
  },
  {
   "cell_type": "code",
   "execution_count": 27,
   "metadata": {
    "collapsed": false
   },
   "outputs": [
    {
     "data": {
      "text/plain": [
       "count    19822.000000\n",
       "mean        18.844516\n",
       "std          5.232300\n",
       "min         11.000000\n",
       "25%         15.000000\n",
       "50%         19.000000\n",
       "75%         23.000000\n",
       "max         33.000000\n",
       "Name: max_tok, dtype: float64"
      ]
     },
     "execution_count": 27,
     "metadata": {},
     "output_type": "execute_result"
    }
   ],
   "source": [
    "df_lost['max_tok'].describe()"
   ]
  },
  {
   "cell_type": "code",
   "execution_count": 28,
   "metadata": {
    "collapsed": false
   },
   "outputs": [
    {
     "name": "stdout",
     "output_type": "stream",
     "text": [
      "winner median: 23.0 \n",
      "loser median: 19.0\n"
     ]
    }
   ],
   "source": [
    "x = df_won['max_tok'].median()\n",
    "y = df_lost['max_tok'].median()\n",
    "print(\"winner median:\", x, \"\\nloser median:\", y)"
   ]
  },
  {
   "cell_type": "markdown",
   "metadata": {
    "collapsed": true
   },
   "source": [
    "Does player position confer an advantage?"
   ]
  },
  {
   "cell_type": "code",
   "execution_count": 4,
   "metadata": {
    "collapsed": false
   },
   "outputs": [
    {
     "data": {
      "text/html": [
       "<div>\n",
       "<table border=\"1\" class=\"dataframe\">\n",
       "  <thead>\n",
       "    <tr style=\"text-align: right;\">\n",
       "      <th></th>\n",
       "      <th>count</th>\n",
       "      <th>percent</th>\n",
       "    </tr>\n",
       "  </thead>\n",
       "  <tbody>\n",
       "    <tr>\n",
       "      <th>0</th>\n",
       "      <td>3313</td>\n",
       "      <td>32.563397</td>\n",
       "    </tr>\n",
       "    <tr>\n",
       "      <th>1</th>\n",
       "      <td>3394</td>\n",
       "      <td>33.359544</td>\n",
       "    </tr>\n",
       "    <tr>\n",
       "      <th>2</th>\n",
       "      <td>3467</td>\n",
       "      <td>34.077059</td>\n",
       "    </tr>\n",
       "  </tbody>\n",
       "</table>\n",
       "</div>"
      ],
      "text/plain": [
       "   count    percent\n",
       "0   3313  32.563397\n",
       "1   3394  33.359544\n",
       "2   3467  34.077059"
      ]
     },
     "execution_count": 4,
     "metadata": {},
     "output_type": "execute_result"
    }
   ],
   "source": [
    "won_pos = df_won['pos'].value_counts(sort=False).to_frame()\n",
    "won_pos.columns = ['count']\n",
    "won_pos['percent'] = 100*won_pos['count']/won_pos['count'].sum()\n",
    "won_pos"
   ]
  },
  {
   "cell_type": "code",
   "execution_count": 5,
   "metadata": {
    "collapsed": false
   },
   "outputs": [
    {
     "data": {
      "text/html": [
       "<div>\n",
       "<table border=\"1\" class=\"dataframe\">\n",
       "  <thead>\n",
       "    <tr style=\"text-align: right;\">\n",
       "      <th></th>\n",
       "      <th>count</th>\n",
       "      <th>percent</th>\n",
       "    </tr>\n",
       "  </thead>\n",
       "  <tbody>\n",
       "    <tr>\n",
       "      <th>0</th>\n",
       "      <td>6687</td>\n",
       "      <td>33.728437</td>\n",
       "    </tr>\n",
       "    <tr>\n",
       "      <th>1</th>\n",
       "      <td>6606</td>\n",
       "      <td>33.319883</td>\n",
       "    </tr>\n",
       "    <tr>\n",
       "      <th>2</th>\n",
       "      <td>6533</td>\n",
       "      <td>32.951680</td>\n",
       "    </tr>\n",
       "  </tbody>\n",
       "</table>\n",
       "</div>"
      ],
      "text/plain": [
       "   count    percent\n",
       "0   6687  33.728437\n",
       "1   6606  33.319883\n",
       "2   6533  32.951680"
      ]
     },
     "execution_count": 5,
     "metadata": {},
     "output_type": "execute_result"
    }
   ],
   "source": [
    "lost_pos = df_lost['pos'].value_counts(sort=False).to_frame()\n",
    "lost_pos.columns = ['count']\n",
    "lost_pos['percent'] = 100*lost_pos['count']/lost_pos['count'].sum()\n",
    "lost_pos"
   ]
  },
  {
   "cell_type": "code",
   "execution_count": 31,
   "metadata": {
    "collapsed": false
   },
   "outputs": [
    {
     "data": {
      "text/plain": [
       "count    10178.000000\n",
       "mean         5.224700\n",
       "std          3.136367\n",
       "min          0.000000\n",
       "25%          3.000000\n",
       "50%          5.000000\n",
       "75%          8.000000\n",
       "max         10.000000\n",
       "Name: tok_thr, dtype: float64"
      ]
     },
     "execution_count": 31,
     "metadata": {},
     "output_type": "execute_result"
    }
   ],
   "source": [
    "df_won['tok_thr'].describe()"
   ]
  },
  {
   "cell_type": "code",
   "execution_count": 13,
   "metadata": {
    "collapsed": false
   },
   "outputs": [
    {
     "data": {
      "text/plain": [
       "count    19797.000000\n",
       "mean         4.880942\n",
       "std          3.180773\n",
       "min          0.000000\n",
       "25%          2.000000\n",
       "50%          5.000000\n",
       "75%          8.000000\n",
       "max         10.000000\n",
       "Name: tok_thr, dtype: float64"
      ]
     },
     "execution_count": 13,
     "metadata": {},
     "output_type": "execute_result"
    }
   ],
   "source": [
    "df_lost['tok_thr'].describe()"
   ]
  },
  {
   "cell_type": "code",
   "execution_count": 6,
   "metadata": {
    "collapsed": false
   },
   "outputs": [
    {
     "data": {
      "text/plain": [
       "count    10174.000000\n",
       "mean         4.296442\n",
       "std          2.576042\n",
       "min          0.000000\n",
       "25%          2.000000\n",
       "50%          4.000000\n",
       "75%          7.000000\n",
       "max          8.000000\n",
       "Name: eff_val, dtype: float64"
      ]
     },
     "execution_count": 6,
     "metadata": {},
     "output_type": "execute_result"
    }
   ],
   "source": [
    "df_won['eff_val'].describe()"
   ]
  },
  {
   "cell_type": "code",
   "execution_count": 7,
   "metadata": {
    "collapsed": false
   },
   "outputs": [
    {
     "data": {
      "text/plain": [
       "count    19826.000000\n",
       "mean         3.841572\n",
       "std          2.566398\n",
       "min          0.000000\n",
       "25%          2.000000\n",
       "50%          4.000000\n",
       "75%          6.000000\n",
       "max          8.000000\n",
       "Name: eff_val, dtype: float64"
      ]
     },
     "execution_count": 7,
     "metadata": {},
     "output_type": "execute_result"
    }
   ],
   "source": [
    "df_lost['eff_val'].describe()"
   ]
  },
  {
   "cell_type": "code",
   "execution_count": 8,
   "metadata": {
    "collapsed": false
   },
   "outputs": [
    {
     "data": {
      "text/plain": [
       "count    10174.000000\n",
       "mean        17.516906\n",
       "std          9.039547\n",
       "min          3.000000\n",
       "25%         10.000000\n",
       "50%         17.000000\n",
       "75%         25.000000\n",
       "max         34.000000\n",
       "Name: init_thr, dtype: float64"
      ]
     },
     "execution_count": 8,
     "metadata": {},
     "output_type": "execute_result"
    }
   ],
   "source": [
    "df_won['init_thr'].describe()"
   ]
  },
  {
   "cell_type": "code",
   "execution_count": 9,
   "metadata": {
    "collapsed": false
   },
   "outputs": [
    {
     "data": {
      "text/plain": [
       "count    19826.00000\n",
       "mean        18.97241\n",
       "std          9.26692\n",
       "min          3.00000\n",
       "25%         11.00000\n",
       "50%         19.00000\n",
       "75%         27.00000\n",
       "max         34.00000\n",
       "Name: init_thr, dtype: float64"
      ]
     },
     "execution_count": 9,
     "metadata": {},
     "output_type": "execute_result"
    }
   ],
   "source": [
    "df_lost['init_thr'].describe()"
   ]
  },
  {
   "cell_type": "code",
   "execution_count": 19,
   "metadata": {
    "collapsed": false
   },
   "outputs": [
    {
     "data": {
      "text/plain": [
       "count    10203.000000\n",
       "mean         5.219151\n",
       "std          3.141160\n",
       "min          0.000000\n",
       "25%          3.000000\n",
       "50%          5.000000\n",
       "75%          8.000000\n",
       "max         10.000000\n",
       "Name: tok_thr, dtype: float64"
      ]
     },
     "execution_count": 19,
     "metadata": {},
     "output_type": "execute_result"
    }
   ],
   "source": [
    "df_won['tok_thr'].describe()"
   ]
  },
  {
   "cell_type": "code",
   "execution_count": 18,
   "metadata": {
    "collapsed": false
   },
   "outputs": [
    {
     "data": {
      "text/plain": [
       "count    19797.000000\n",
       "mean         4.880942\n",
       "std          3.180773\n",
       "min          0.000000\n",
       "25%          2.000000\n",
       "50%          5.000000\n",
       "75%          8.000000\n",
       "max         10.000000\n",
       "Name: tok_thr, dtype: float64"
      ]
     },
     "execution_count": 18,
     "metadata": {},
     "output_type": "execute_result"
    }
   ],
   "source": [
    "df_lost['tok_thr'].describe()"
   ]
  },
  {
   "cell_type": "code",
   "execution_count": 20,
   "metadata": {
    "collapsed": false
   },
   "outputs": [
    {
     "data": {
      "text/plain": [
       "count    10203.000000\n",
       "mean        12.918749\n",
       "std          4.270891\n",
       "min          6.000000\n",
       "25%          9.000000\n",
       "50%         13.000000\n",
       "75%         17.000000\n",
       "max         20.000000\n",
       "Name: pot_thr, dtype: float64"
      ]
     },
     "execution_count": 20,
     "metadata": {},
     "output_type": "execute_result"
    }
   ],
   "source": [
    "df_won['pot_thr'].describe()"
   ]
  },
  {
   "cell_type": "code",
   "execution_count": 21,
   "metadata": {
    "collapsed": false
   },
   "outputs": [
    {
     "data": {
      "text/plain": [
       "count    19797.000000\n",
       "mean        13.008840\n",
       "std          4.348407\n",
       "min          6.000000\n",
       "25%          9.000000\n",
       "50%         13.000000\n",
       "75%         17.000000\n",
       "max         20.000000\n",
       "Name: pot_thr, dtype: float64"
      ]
     },
     "execution_count": 21,
     "metadata": {},
     "output_type": "execute_result"
    }
   ],
   "source": [
    "df_lost['pot_thr'].describe()"
   ]
  },
  {
   "cell_type": "code",
   "execution_count": 10,
   "metadata": {
    "collapsed": false
   },
   "outputs": [
    {
     "data": {
      "text/plain": [
       "count    10174.000000\n",
       "mean         7.608217\n",
       "std          5.366416\n",
       "min         -4.000000\n",
       "25%          4.000000\n",
       "50%          8.000000\n",
       "75%         12.000000\n",
       "max         20.000000\n",
       "Name: pot_minus_tok_thr, dtype: float64"
      ]
     },
     "execution_count": 10,
     "metadata": {},
     "output_type": "execute_result"
    }
   ],
   "source": [
    "df_won['pot_minus_tok_thr'] = df_won['pot_thr'] - df_won['tok_thr']\n",
    "df_won['pot_minus_tok_thr'].describe()"
   ]
  },
  {
   "cell_type": "code",
   "execution_count": 11,
   "metadata": {
    "collapsed": false
   },
   "outputs": [
    {
     "data": {
      "text/plain": [
       "count    19826.000000\n",
       "mean         8.188540\n",
       "std          5.349416\n",
       "min         -4.000000\n",
       "25%          4.000000\n",
       "50%          8.000000\n",
       "75%         12.000000\n",
       "max         20.000000\n",
       "Name: pot_minus_tok_thr, dtype: float64"
      ]
     },
     "execution_count": 11,
     "metadata": {},
     "output_type": "execute_result"
    }
   ],
   "source": [
    "df_lost['pot_minus_tok_thr'] = df_lost['pot_thr'] - df_lost['tok_thr']\n",
    "df_lost['pot_minus_tok_thr'].describe()"
   ]
  },
  {
   "cell_type": "code",
   "execution_count": null,
   "metadata": {
    "collapsed": true
   },
   "outputs": [],
   "source": []
  }
 ],
 "metadata": {
  "kernelspec": {
   "display_name": "Python 3",
   "language": "python",
   "name": "python3"
  },
  "language_info": {
   "codemirror_mode": {
    "name": "ipython",
    "version": 3
   },
   "file_extension": ".py",
   "mimetype": "text/x-python",
   "name": "python",
   "nbconvert_exporter": "python",
   "pygments_lexer": "ipython3",
   "version": "3.5.1"
  }
 },
 "nbformat": 4,
 "nbformat_minor": 0
}
